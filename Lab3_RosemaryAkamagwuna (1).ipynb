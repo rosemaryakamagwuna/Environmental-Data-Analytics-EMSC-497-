{
  "nbformat": 4,
  "nbformat_minor": 0,
  "metadata": {
    "colab": {
      "provenance": [],
      "collapsed_sections": []
    },
    "kernelspec": {
      "name": "python3",
      "display_name": "Python 3"
    }
  },
  "cells": [
    {
      "cell_type": "markdown",
      "metadata": {
        "id": "NHHcLgnCadt0"
      },
      "source": [
        "# **Coding and analysis tasks**"
      ]
    },
    {
      "cell_type": "markdown",
      "metadata": {
        "id": "1BSldq5Pnnel"
      },
      "source": [
        "For practice, you will perform image classification on a hyperspectral image, and assign a class label (land cover) to each pixel. \n",
        "\n",
        "The image file (“data.tif”) is a hyperspectral airborne image acquired on November 17, 2008 by AISA-Eagle (AE) Hyperspectral Imager of CALMIT (Center for Advanced Land Management Information Technologies), University of Nebraska-Lincoln. The image covers part of the coast near Corpus Christi, Texas. It includes 63 narrow bands in the Visible and Near Infrared (VNIR) spectral range from 400 to 970 nm wavelength at a spatial resolution of 1 and 2 meters. The pixel value of each band is the surface reflectance multiplied by 10000.\n",
        "\n",
        "The “training.csv” includes training data, each record has 65 attributes, including surface reflectance values (multiplied by 10000) of the 63 bands, land cover class (1 for Construction, 2 for Dock, 3 for Water, 4 for Building roof, 5 for Grass, 6 for Wetland), and classlabel. In this context, a classifier is a model that predicts land cover class from the surface reflectance values of those 63 bands. \n",
        "\n",
        "Perform and document the following tasks in your notebook:\n",
        "*\tUse training.csv to train different classifiers you have learned above, evaluate the performance of each classifier, and discuss the difference of the classification performance. \n",
        "* Use k-fold cross validation method to tune the hyperparameter ‘k’ for the k nearest neighbor classifier, use GridSearchCV to tune the hyperparameters of ‘max_depth’ and ‘min_sample_leaf’ for the decision tree method, plot the classification measure (you choose a proper metric, such as kappa coefficient) varied with different hyperparameters for both training set and test set. \n",
        "* Use your trained model and best hyperparameter to classify the whole image (data.tif), which means that you need to assign a class label to each pixel. Plot the original image and the classification results of different classifiers. \n"
      ]
    },
    {
      "cell_type": "markdown",
      "metadata": {
        "id": "G_pPFZUpoJ6v"
      },
      "source": [
        "Tips:\n",
        "\n",
        "* Consider to write a function to print out different performance metrics given test data.\n",
        "* Use following codes as reference to read the image data and apply the classifier to the image\n",
        "\n",
        "```\n",
        "# import package\n",
        "import skimage.io as io\n",
        "\n",
        "# read image as a numpy array\n",
        "img_ds = io.imread(\"your image data path\")\n",
        "img = np.array(img_ds, dtype='uint16')  \n",
        "\n",
        "# unroll the image\n",
        "new_shape = (img.shape[0] * img.shape[1], img.shape[2]) \n",
        "img_as_array = img[:, :, :].reshape(new_shape)\n",
        "\n",
        "\n",
        "# predict the class\n",
        "class_pred = yourmodel.predict (img_as_array)\n",
        "```\n",
        "\n"
      ]
    },
    {
      "cell_type": "markdown",
      "source": [
        "Import Packages"
      ],
      "metadata": {
        "id": "N2p9tHRE3lUF"
      }
    },
    {
      "cell_type": "code",
      "metadata": {
        "id": "kySorDFmsiDs"
      },
      "source": [
        "import re\n",
        "\n",
        "import numpy as np\n",
        "import pandas as pd\n",
        "import matplotlib.pyplot as plt\n",
        "import seaborn as sns\n",
        "\n",
        "from sklearn.preprocessing import StandardScaler\n",
        "from sklearn.linear_model import LogisticRegression\n",
        "from sklearn.neighbors import KNeighborsClassifier\n",
        "from sklearn.tree import DecisionTreeClassifier\n",
        "from sklearn.tree import export_graphviz\n",
        "import graphviz\n",
        "\n",
        "from sklearn.ensemble import RandomForestClassifier\n",
        "from sklearn.naive_bayes import GaussianNB\n",
        "from sklearn.svm import SVC\n",
        "\n",
        "\n",
        "from sklearn.model_selection import StratifiedKFold, train_test_split, GridSearchCV\n",
        "from sklearn.metrics import accuracy_score, precision_score, recall_score, f1_score, classification_report, confusion_matrix, \\\n",
        "    precision_recall_curve, roc_auc_score, roc_curve, make_scorer, cohen_kappa_score, average_precision_score, make_scorer, log_loss\n",
        "from sklearn.pipeline import Pipeline\n",
        "\n",
        "import skimage.io as io"
      ],
      "execution_count": 1,
      "outputs": []
    },
    {
      "cell_type": "code",
      "source": [
        "from google.colab import drive\n",
        "drive.mount('/content/drive')"
      ],
      "metadata": {
        "colab": {
          "base_uri": "https://localhost:8080/"
        },
        "id": "7GTnnFi7gwBo",
        "outputId": "2d9329b1-0f89-4471-f0e0-3ed2fa4019f7"
      },
      "execution_count": 2,
      "outputs": [
        {
          "output_type": "stream",
          "name": "stdout",
          "text": [
            "Mounted at /content/drive\n"
          ]
        }
      ]
    },
    {
      "cell_type": "code",
      "source": [
        "# change your workdirectory and list the files\n",
        "%cd /content/drive/My Drive/Rosemary\n",
        "%ls\n"
      ],
      "metadata": {
        "colab": {
          "base_uri": "https://localhost:8080/"
        },
        "id": "522cVcK3g6Km",
        "outputId": "f140754a-9c5b-4815-bbd6-f1a7d8a96643"
      },
      "execution_count": 3,
      "outputs": [
        {
          "output_type": "stream",
          "name": "stdout",
          "text": [
            "[Errno 2] No such file or directory: '/content/drive/My Drive/Rosemary'\n",
            "/content\n",
            "\u001b[0m\u001b[01;34mdrive\u001b[0m/  \u001b[01;34msample_data\u001b[0m/\n"
          ]
        }
      ]
    },
    {
      "cell_type": "markdown",
      "source": [
        "Reshape Image"
      ],
      "metadata": {
        "id": "jHMkb8TO3wtj"
      }
    },
    {
      "cell_type": "code",
      "source": [
        "# read image as a numpy array\n",
        "img_ds = io.imread(\"/content/drive/My Drive/lab3 2/data.tif\")\n",
        "img = np.array(img_ds, dtype='uint16')  \n",
        "print(f\"Shape of image is: {img.shape}\")"
      ],
      "metadata": {
        "colab": {
          "base_uri": "https://localhost:8080/"
        },
        "id": "rZbUxIfhuK7S",
        "outputId": "04d3a7e6-3d18-4dc5-8baa-8efd2695e3bf"
      },
      "execution_count": 6,
      "outputs": [
        {
          "output_type": "stream",
          "name": "stdout",
          "text": [
            "Shape of image is: (544, 544, 63)\n"
          ]
        }
      ]
    },
    {
      "cell_type": "code",
      "source": [
        "# unroll the image\n",
        "new_shape = (img.shape[0] * img.shape[1], img.shape[2]) \n",
        "img_as_array = img[:, :, :].reshape(new_shape)\n",
        "\n",
        "print(f\"Shape of image is: {img_as_array.shape}\")\n",
        "\n",
        "assert img_as_array.shape == new_shape"
      ],
      "metadata": {
        "id": "Mb5FYlHjaTps",
        "colab": {
          "base_uri": "https://localhost:8080/"
        },
        "outputId": "c34b75da-38d4-4875-a7cf-76197e0b3f3c"
      },
      "execution_count": 7,
      "outputs": [
        {
          "output_type": "stream",
          "name": "stdout",
          "text": [
            "Shape of image is: (295936, 63)\n"
          ]
        }
      ]
    },
    {
      "cell_type": "code",
      "source": [
        "img[0, :5, 0]"
      ],
      "metadata": {
        "colab": {
          "base_uri": "https://localhost:8080/"
        },
        "id": "TAoptR7WvgKV",
        "outputId": "89d7c8b7-8a31-4abd-d39b-641ed99b6ad1"
      },
      "execution_count": 8,
      "outputs": [
        {
          "output_type": "execute_result",
          "data": {
            "text/plain": [
              "array([65367, 65308, 65351, 65348, 65348], dtype=uint16)"
            ]
          },
          "metadata": {},
          "execution_count": 8
        }
      ]
    },
    {
      "cell_type": "code",
      "source": [
        "img_as_array[:5, 0].reshape(-1, 1)"
      ],
      "metadata": {
        "colab": {
          "base_uri": "https://localhost:8080/"
        },
        "id": "XuvrKEwrvrnp",
        "outputId": "d2081d58-a244-49c6-cd7d-3c3888e0b902"
      },
      "execution_count": 9,
      "outputs": [
        {
          "output_type": "execute_result",
          "data": {
            "text/plain": [
              "array([[65367],\n",
              "       [65308],\n",
              "       [65351],\n",
              "       [65348],\n",
              "       [65348]], dtype=uint16)"
            ]
          },
          "metadata": {},
          "execution_count": 9
        }
      ]
    },
    {
      "cell_type": "markdown",
      "source": [
        "Loading the training set"
      ],
      "metadata": {
        "id": "x2LBbObDw--q"
      }
    },
    {
      "cell_type": "code",
      "source": [
        "# Read training data\n",
        "training = pd.read_csv(\"/content/drive/My Drive/lab3 2/training.csv\", sep=\",\")\n",
        "\n",
        "print(f\"Shape of training data is: {training.shape}\")\n",
        "training.head()"
      ],
      "metadata": {
        "id": "42bkDTx7NKa8",
        "colab": {
          "base_uri": "https://localhost:8080/",
          "height": 317
        },
        "outputId": "374c48d2-f82e-45c2-e496-d2f5e1d0ea7b"
      },
      "execution_count": 11,
      "outputs": [
        {
          "output_type": "stream",
          "name": "stdout",
          "text": [
            "Shape of training data is: (19357, 65)\n"
          ]
        },
        {
          "output_type": "execute_result",
          "data": {
            "text/plain": [
              "   Band_1  Band_2  Band_3  Band_4  Band_5  Band_6  Band_7  Band_8  Band_9  \\\n",
              "0     293     349     383     444     454     495     541     586     613   \n",
              "1     406     462     500     538     558     627     694     741     780   \n",
              "2     726     713     763     803     845     926    1010    1096    1149   \n",
              "3     720     765     829     877     923    1028    1126    1209    1273   \n",
              "4     710     804     881     919     967    1090    1190    1259    1324   \n",
              "\n",
              "   Band_10  ...  Band_56  Band_57  Band_58  Band_59  Band_60  Band_61  \\\n",
              "0      649  ...     1516     1658     2357     2301     2231     1906   \n",
              "1      829  ...     1800     1935     2709     2476     2393     2110   \n",
              "2     1207  ...     2407     2491     2951     3078     2830     2579   \n",
              "3     1332  ...     2754     2929     3361     3287     3100     2960   \n",
              "4     1394  ...     3152     3280     3659     3551     3522     3327   \n",
              "\n",
              "   Band_62  Band_63  class    classlabel  \n",
              "0     1854     1881      1  Construction  \n",
              "1     2157     2170      1  Construction  \n",
              "2     2552     2647      1  Construction  \n",
              "3     3052     2980      1  Construction  \n",
              "4     3321     3374      1  Construction  \n",
              "\n",
              "[5 rows x 65 columns]"
            ],
            "text/html": [
              "\n",
              "  <div id=\"df-fa926af7-8fd6-4cd0-b2fc-53776a142f2b\">\n",
              "    <div class=\"colab-df-container\">\n",
              "      <div>\n",
              "<style scoped>\n",
              "    .dataframe tbody tr th:only-of-type {\n",
              "        vertical-align: middle;\n",
              "    }\n",
              "\n",
              "    .dataframe tbody tr th {\n",
              "        vertical-align: top;\n",
              "    }\n",
              "\n",
              "    .dataframe thead th {\n",
              "        text-align: right;\n",
              "    }\n",
              "</style>\n",
              "<table border=\"1\" class=\"dataframe\">\n",
              "  <thead>\n",
              "    <tr style=\"text-align: right;\">\n",
              "      <th></th>\n",
              "      <th>Band_1</th>\n",
              "      <th>Band_2</th>\n",
              "      <th>Band_3</th>\n",
              "      <th>Band_4</th>\n",
              "      <th>Band_5</th>\n",
              "      <th>Band_6</th>\n",
              "      <th>Band_7</th>\n",
              "      <th>Band_8</th>\n",
              "      <th>Band_9</th>\n",
              "      <th>Band_10</th>\n",
              "      <th>...</th>\n",
              "      <th>Band_56</th>\n",
              "      <th>Band_57</th>\n",
              "      <th>Band_58</th>\n",
              "      <th>Band_59</th>\n",
              "      <th>Band_60</th>\n",
              "      <th>Band_61</th>\n",
              "      <th>Band_62</th>\n",
              "      <th>Band_63</th>\n",
              "      <th>class</th>\n",
              "      <th>classlabel</th>\n",
              "    </tr>\n",
              "  </thead>\n",
              "  <tbody>\n",
              "    <tr>\n",
              "      <th>0</th>\n",
              "      <td>293</td>\n",
              "      <td>349</td>\n",
              "      <td>383</td>\n",
              "      <td>444</td>\n",
              "      <td>454</td>\n",
              "      <td>495</td>\n",
              "      <td>541</td>\n",
              "      <td>586</td>\n",
              "      <td>613</td>\n",
              "      <td>649</td>\n",
              "      <td>...</td>\n",
              "      <td>1516</td>\n",
              "      <td>1658</td>\n",
              "      <td>2357</td>\n",
              "      <td>2301</td>\n",
              "      <td>2231</td>\n",
              "      <td>1906</td>\n",
              "      <td>1854</td>\n",
              "      <td>1881</td>\n",
              "      <td>1</td>\n",
              "      <td>Construction</td>\n",
              "    </tr>\n",
              "    <tr>\n",
              "      <th>1</th>\n",
              "      <td>406</td>\n",
              "      <td>462</td>\n",
              "      <td>500</td>\n",
              "      <td>538</td>\n",
              "      <td>558</td>\n",
              "      <td>627</td>\n",
              "      <td>694</td>\n",
              "      <td>741</td>\n",
              "      <td>780</td>\n",
              "      <td>829</td>\n",
              "      <td>...</td>\n",
              "      <td>1800</td>\n",
              "      <td>1935</td>\n",
              "      <td>2709</td>\n",
              "      <td>2476</td>\n",
              "      <td>2393</td>\n",
              "      <td>2110</td>\n",
              "      <td>2157</td>\n",
              "      <td>2170</td>\n",
              "      <td>1</td>\n",
              "      <td>Construction</td>\n",
              "    </tr>\n",
              "    <tr>\n",
              "      <th>2</th>\n",
              "      <td>726</td>\n",
              "      <td>713</td>\n",
              "      <td>763</td>\n",
              "      <td>803</td>\n",
              "      <td>845</td>\n",
              "      <td>926</td>\n",
              "      <td>1010</td>\n",
              "      <td>1096</td>\n",
              "      <td>1149</td>\n",
              "      <td>1207</td>\n",
              "      <td>...</td>\n",
              "      <td>2407</td>\n",
              "      <td>2491</td>\n",
              "      <td>2951</td>\n",
              "      <td>3078</td>\n",
              "      <td>2830</td>\n",
              "      <td>2579</td>\n",
              "      <td>2552</td>\n",
              "      <td>2647</td>\n",
              "      <td>1</td>\n",
              "      <td>Construction</td>\n",
              "    </tr>\n",
              "    <tr>\n",
              "      <th>3</th>\n",
              "      <td>720</td>\n",
              "      <td>765</td>\n",
              "      <td>829</td>\n",
              "      <td>877</td>\n",
              "      <td>923</td>\n",
              "      <td>1028</td>\n",
              "      <td>1126</td>\n",
              "      <td>1209</td>\n",
              "      <td>1273</td>\n",
              "      <td>1332</td>\n",
              "      <td>...</td>\n",
              "      <td>2754</td>\n",
              "      <td>2929</td>\n",
              "      <td>3361</td>\n",
              "      <td>3287</td>\n",
              "      <td>3100</td>\n",
              "      <td>2960</td>\n",
              "      <td>3052</td>\n",
              "      <td>2980</td>\n",
              "      <td>1</td>\n",
              "      <td>Construction</td>\n",
              "    </tr>\n",
              "    <tr>\n",
              "      <th>4</th>\n",
              "      <td>710</td>\n",
              "      <td>804</td>\n",
              "      <td>881</td>\n",
              "      <td>919</td>\n",
              "      <td>967</td>\n",
              "      <td>1090</td>\n",
              "      <td>1190</td>\n",
              "      <td>1259</td>\n",
              "      <td>1324</td>\n",
              "      <td>1394</td>\n",
              "      <td>...</td>\n",
              "      <td>3152</td>\n",
              "      <td>3280</td>\n",
              "      <td>3659</td>\n",
              "      <td>3551</td>\n",
              "      <td>3522</td>\n",
              "      <td>3327</td>\n",
              "      <td>3321</td>\n",
              "      <td>3374</td>\n",
              "      <td>1</td>\n",
              "      <td>Construction</td>\n",
              "    </tr>\n",
              "  </tbody>\n",
              "</table>\n",
              "<p>5 rows × 65 columns</p>\n",
              "</div>\n",
              "      <button class=\"colab-df-convert\" onclick=\"convertToInteractive('df-fa926af7-8fd6-4cd0-b2fc-53776a142f2b')\"\n",
              "              title=\"Convert this dataframe to an interactive table.\"\n",
              "              style=\"display:none;\">\n",
              "        \n",
              "  <svg xmlns=\"http://www.w3.org/2000/svg\" height=\"24px\"viewBox=\"0 0 24 24\"\n",
              "       width=\"24px\">\n",
              "    <path d=\"M0 0h24v24H0V0z\" fill=\"none\"/>\n",
              "    <path d=\"M18.56 5.44l.94 2.06.94-2.06 2.06-.94-2.06-.94-.94-2.06-.94 2.06-2.06.94zm-11 1L8.5 8.5l.94-2.06 2.06-.94-2.06-.94L8.5 2.5l-.94 2.06-2.06.94zm10 10l.94 2.06.94-2.06 2.06-.94-2.06-.94-.94-2.06-.94 2.06-2.06.94z\"/><path d=\"M17.41 7.96l-1.37-1.37c-.4-.4-.92-.59-1.43-.59-.52 0-1.04.2-1.43.59L10.3 9.45l-7.72 7.72c-.78.78-.78 2.05 0 2.83L4 21.41c.39.39.9.59 1.41.59.51 0 1.02-.2 1.41-.59l7.78-7.78 2.81-2.81c.8-.78.8-2.07 0-2.86zM5.41 20L4 18.59l7.72-7.72 1.47 1.35L5.41 20z\"/>\n",
              "  </svg>\n",
              "      </button>\n",
              "      \n",
              "  <style>\n",
              "    .colab-df-container {\n",
              "      display:flex;\n",
              "      flex-wrap:wrap;\n",
              "      gap: 12px;\n",
              "    }\n",
              "\n",
              "    .colab-df-convert {\n",
              "      background-color: #E8F0FE;\n",
              "      border: none;\n",
              "      border-radius: 50%;\n",
              "      cursor: pointer;\n",
              "      display: none;\n",
              "      fill: #1967D2;\n",
              "      height: 32px;\n",
              "      padding: 0 0 0 0;\n",
              "      width: 32px;\n",
              "    }\n",
              "\n",
              "    .colab-df-convert:hover {\n",
              "      background-color: #E2EBFA;\n",
              "      box-shadow: 0px 1px 2px rgba(60, 64, 67, 0.3), 0px 1px 3px 1px rgba(60, 64, 67, 0.15);\n",
              "      fill: #174EA6;\n",
              "    }\n",
              "\n",
              "    [theme=dark] .colab-df-convert {\n",
              "      background-color: #3B4455;\n",
              "      fill: #D2E3FC;\n",
              "    }\n",
              "\n",
              "    [theme=dark] .colab-df-convert:hover {\n",
              "      background-color: #434B5C;\n",
              "      box-shadow: 0px 1px 3px 1px rgba(0, 0, 0, 0.15);\n",
              "      filter: drop-shadow(0px 1px 2px rgba(0, 0, 0, 0.3));\n",
              "      fill: #FFFFFF;\n",
              "    }\n",
              "  </style>\n",
              "\n",
              "      <script>\n",
              "        const buttonEl =\n",
              "          document.querySelector('#df-fa926af7-8fd6-4cd0-b2fc-53776a142f2b button.colab-df-convert');\n",
              "        buttonEl.style.display =\n",
              "          google.colab.kernel.accessAllowed ? 'block' : 'none';\n",
              "\n",
              "        async function convertToInteractive(key) {\n",
              "          const element = document.querySelector('#df-fa926af7-8fd6-4cd0-b2fc-53776a142f2b');\n",
              "          const dataTable =\n",
              "            await google.colab.kernel.invokeFunction('convertToInteractive',\n",
              "                                                     [key], {});\n",
              "          if (!dataTable) return;\n",
              "\n",
              "          const docLinkHtml = 'Like what you see? Visit the ' +\n",
              "            '<a target=\"_blank\" href=https://colab.research.google.com/notebooks/data_table.ipynb>data table notebook</a>'\n",
              "            + ' to learn more about interactive tables.';\n",
              "          element.innerHTML = '';\n",
              "          dataTable['output_type'] = 'display_data';\n",
              "          await google.colab.output.renderOutput(dataTable, element);\n",
              "          const docLink = document.createElement('div');\n",
              "          docLink.innerHTML = docLinkHtml;\n",
              "          element.appendChild(docLink);\n",
              "        }\n",
              "      </script>\n",
              "    </div>\n",
              "  </div>\n",
              "  "
            ]
          },
          "metadata": {},
          "execution_count": 11
        }
      ]
    },
    {
      "cell_type": "code",
      "source": [
        "training.describe()"
      ],
      "metadata": {
        "id": "3AaWDd2IQCnP",
        "colab": {
          "base_uri": "https://localhost:8080/",
          "height": 394
        },
        "outputId": "8bf9102b-631a-400a-86ec-d81421be0129"
      },
      "execution_count": 12,
      "outputs": [
        {
          "output_type": "execute_result",
          "data": {
            "text/plain": [
              "             Band_1        Band_2        Band_3        Band_4        Band_5  \\\n",
              "count  19357.000000  19357.000000  19357.000000  19357.000000  19357.000000   \n",
              "mean     141.041535    269.595340    363.131012    424.842796    450.018960   \n",
              "std      731.819759    757.762277    700.486580    647.621751    636.706727   \n",
              "min     -270.000000   -102.000000     31.000000    113.000000    145.000000   \n",
              "25%     -142.000000    -15.000000     93.000000    164.000000    184.000000   \n",
              "50%      -74.000000     54.000000    165.000000    241.000000    269.000000   \n",
              "75%       20.000000    137.000000    242.000000    314.000000    341.000000   \n",
              "max     4866.000000   5230.000000   4917.000000   4594.000000   4480.000000   \n",
              "\n",
              "             Band_6        Band_7        Band_8        Band_9      Band_10  \\\n",
              "count  19357.000000  19357.000000  19357.000000  19357.000000  19357.00000   \n",
              "mean     493.724751    523.165418    552.706824    564.674795    582.42176   \n",
              "std      682.586021    675.017890    654.910077    607.652320    587.91301   \n",
              "min      161.000000    166.000000    184.000000    194.000000    201.00000   \n",
              "25%      200.000000    213.000000    236.000000    252.000000    270.00000   \n",
              "50%      299.000000    325.000000    354.000000    372.000000    390.00000   \n",
              "75%      376.000000    409.000000    444.000000    468.000000    491.00000   \n",
              "max     4726.000000   4011.000000   3536.000000   3062.000000   2833.00000   \n",
              "\n",
              "       ...       Band_55       Band_56       Band_57       Band_58  \\\n",
              "count  ...  19357.000000  19357.000000  19357.000000  19357.000000   \n",
              "mean   ...   1901.408948   1952.002325   1998.527768   2215.647518   \n",
              "std    ...   1560.537445   1569.998892   1577.510412   1380.965286   \n",
              "min    ...    233.000000    257.000000    287.000000    475.000000   \n",
              "25%    ...    341.000000    385.000000    437.000000    887.000000   \n",
              "50%    ...   1719.000000   1770.000000   1817.000000   2069.000000   \n",
              "75%    ...   2441.000000   2511.000000   2566.000000   2788.000000   \n",
              "max    ...   7171.000000   7188.000000   7368.000000   6727.000000   \n",
              "\n",
              "            Band_59       Band_60       Band_61       Band_62       Band_63  \\\n",
              "count  19357.000000  19357.000000  19357.000000  19357.000000  19357.000000   \n",
              "mean    2245.883763   2246.117580   2184.166400   2177.650152   2242.622204   \n",
              "std     1461.337250   1478.643517   1551.562914   1595.657155   1650.479128   \n",
              "min      408.000000    438.000000    404.000000    391.000000    390.000000   \n",
              "25%      838.000000    835.000000    703.000000    659.000000    671.000000   \n",
              "50%     2085.000000   2074.000000   1987.000000   1969.000000   2032.000000   \n",
              "75%     2849.000000   2838.000000   2774.000000   2770.000000   2848.000000   \n",
              "max     7045.000000   7232.000000   7411.000000   7631.000000   7921.000000   \n",
              "\n",
              "              class  \n",
              "count  19357.000000  \n",
              "mean       4.350261  \n",
              "std        1.729532  \n",
              "min        1.000000  \n",
              "25%        3.000000  \n",
              "50%        5.000000  \n",
              "75%        6.000000  \n",
              "max        6.000000  \n",
              "\n",
              "[8 rows x 64 columns]"
            ],
            "text/html": [
              "\n",
              "  <div id=\"df-740a1e0a-a6a4-4968-8ffe-e52981662227\">\n",
              "    <div class=\"colab-df-container\">\n",
              "      <div>\n",
              "<style scoped>\n",
              "    .dataframe tbody tr th:only-of-type {\n",
              "        vertical-align: middle;\n",
              "    }\n",
              "\n",
              "    .dataframe tbody tr th {\n",
              "        vertical-align: top;\n",
              "    }\n",
              "\n",
              "    .dataframe thead th {\n",
              "        text-align: right;\n",
              "    }\n",
              "</style>\n",
              "<table border=\"1\" class=\"dataframe\">\n",
              "  <thead>\n",
              "    <tr style=\"text-align: right;\">\n",
              "      <th></th>\n",
              "      <th>Band_1</th>\n",
              "      <th>Band_2</th>\n",
              "      <th>Band_3</th>\n",
              "      <th>Band_4</th>\n",
              "      <th>Band_5</th>\n",
              "      <th>Band_6</th>\n",
              "      <th>Band_7</th>\n",
              "      <th>Band_8</th>\n",
              "      <th>Band_9</th>\n",
              "      <th>Band_10</th>\n",
              "      <th>...</th>\n",
              "      <th>Band_55</th>\n",
              "      <th>Band_56</th>\n",
              "      <th>Band_57</th>\n",
              "      <th>Band_58</th>\n",
              "      <th>Band_59</th>\n",
              "      <th>Band_60</th>\n",
              "      <th>Band_61</th>\n",
              "      <th>Band_62</th>\n",
              "      <th>Band_63</th>\n",
              "      <th>class</th>\n",
              "    </tr>\n",
              "  </thead>\n",
              "  <tbody>\n",
              "    <tr>\n",
              "      <th>count</th>\n",
              "      <td>19357.000000</td>\n",
              "      <td>19357.000000</td>\n",
              "      <td>19357.000000</td>\n",
              "      <td>19357.000000</td>\n",
              "      <td>19357.000000</td>\n",
              "      <td>19357.000000</td>\n",
              "      <td>19357.000000</td>\n",
              "      <td>19357.000000</td>\n",
              "      <td>19357.000000</td>\n",
              "      <td>19357.00000</td>\n",
              "      <td>...</td>\n",
              "      <td>19357.000000</td>\n",
              "      <td>19357.000000</td>\n",
              "      <td>19357.000000</td>\n",
              "      <td>19357.000000</td>\n",
              "      <td>19357.000000</td>\n",
              "      <td>19357.000000</td>\n",
              "      <td>19357.000000</td>\n",
              "      <td>19357.000000</td>\n",
              "      <td>19357.000000</td>\n",
              "      <td>19357.000000</td>\n",
              "    </tr>\n",
              "    <tr>\n",
              "      <th>mean</th>\n",
              "      <td>141.041535</td>\n",
              "      <td>269.595340</td>\n",
              "      <td>363.131012</td>\n",
              "      <td>424.842796</td>\n",
              "      <td>450.018960</td>\n",
              "      <td>493.724751</td>\n",
              "      <td>523.165418</td>\n",
              "      <td>552.706824</td>\n",
              "      <td>564.674795</td>\n",
              "      <td>582.42176</td>\n",
              "      <td>...</td>\n",
              "      <td>1901.408948</td>\n",
              "      <td>1952.002325</td>\n",
              "      <td>1998.527768</td>\n",
              "      <td>2215.647518</td>\n",
              "      <td>2245.883763</td>\n",
              "      <td>2246.117580</td>\n",
              "      <td>2184.166400</td>\n",
              "      <td>2177.650152</td>\n",
              "      <td>2242.622204</td>\n",
              "      <td>4.350261</td>\n",
              "    </tr>\n",
              "    <tr>\n",
              "      <th>std</th>\n",
              "      <td>731.819759</td>\n",
              "      <td>757.762277</td>\n",
              "      <td>700.486580</td>\n",
              "      <td>647.621751</td>\n",
              "      <td>636.706727</td>\n",
              "      <td>682.586021</td>\n",
              "      <td>675.017890</td>\n",
              "      <td>654.910077</td>\n",
              "      <td>607.652320</td>\n",
              "      <td>587.91301</td>\n",
              "      <td>...</td>\n",
              "      <td>1560.537445</td>\n",
              "      <td>1569.998892</td>\n",
              "      <td>1577.510412</td>\n",
              "      <td>1380.965286</td>\n",
              "      <td>1461.337250</td>\n",
              "      <td>1478.643517</td>\n",
              "      <td>1551.562914</td>\n",
              "      <td>1595.657155</td>\n",
              "      <td>1650.479128</td>\n",
              "      <td>1.729532</td>\n",
              "    </tr>\n",
              "    <tr>\n",
              "      <th>min</th>\n",
              "      <td>-270.000000</td>\n",
              "      <td>-102.000000</td>\n",
              "      <td>31.000000</td>\n",
              "      <td>113.000000</td>\n",
              "      <td>145.000000</td>\n",
              "      <td>161.000000</td>\n",
              "      <td>166.000000</td>\n",
              "      <td>184.000000</td>\n",
              "      <td>194.000000</td>\n",
              "      <td>201.00000</td>\n",
              "      <td>...</td>\n",
              "      <td>233.000000</td>\n",
              "      <td>257.000000</td>\n",
              "      <td>287.000000</td>\n",
              "      <td>475.000000</td>\n",
              "      <td>408.000000</td>\n",
              "      <td>438.000000</td>\n",
              "      <td>404.000000</td>\n",
              "      <td>391.000000</td>\n",
              "      <td>390.000000</td>\n",
              "      <td>1.000000</td>\n",
              "    </tr>\n",
              "    <tr>\n",
              "      <th>25%</th>\n",
              "      <td>-142.000000</td>\n",
              "      <td>-15.000000</td>\n",
              "      <td>93.000000</td>\n",
              "      <td>164.000000</td>\n",
              "      <td>184.000000</td>\n",
              "      <td>200.000000</td>\n",
              "      <td>213.000000</td>\n",
              "      <td>236.000000</td>\n",
              "      <td>252.000000</td>\n",
              "      <td>270.00000</td>\n",
              "      <td>...</td>\n",
              "      <td>341.000000</td>\n",
              "      <td>385.000000</td>\n",
              "      <td>437.000000</td>\n",
              "      <td>887.000000</td>\n",
              "      <td>838.000000</td>\n",
              "      <td>835.000000</td>\n",
              "      <td>703.000000</td>\n",
              "      <td>659.000000</td>\n",
              "      <td>671.000000</td>\n",
              "      <td>3.000000</td>\n",
              "    </tr>\n",
              "    <tr>\n",
              "      <th>50%</th>\n",
              "      <td>-74.000000</td>\n",
              "      <td>54.000000</td>\n",
              "      <td>165.000000</td>\n",
              "      <td>241.000000</td>\n",
              "      <td>269.000000</td>\n",
              "      <td>299.000000</td>\n",
              "      <td>325.000000</td>\n",
              "      <td>354.000000</td>\n",
              "      <td>372.000000</td>\n",
              "      <td>390.00000</td>\n",
              "      <td>...</td>\n",
              "      <td>1719.000000</td>\n",
              "      <td>1770.000000</td>\n",
              "      <td>1817.000000</td>\n",
              "      <td>2069.000000</td>\n",
              "      <td>2085.000000</td>\n",
              "      <td>2074.000000</td>\n",
              "      <td>1987.000000</td>\n",
              "      <td>1969.000000</td>\n",
              "      <td>2032.000000</td>\n",
              "      <td>5.000000</td>\n",
              "    </tr>\n",
              "    <tr>\n",
              "      <th>75%</th>\n",
              "      <td>20.000000</td>\n",
              "      <td>137.000000</td>\n",
              "      <td>242.000000</td>\n",
              "      <td>314.000000</td>\n",
              "      <td>341.000000</td>\n",
              "      <td>376.000000</td>\n",
              "      <td>409.000000</td>\n",
              "      <td>444.000000</td>\n",
              "      <td>468.000000</td>\n",
              "      <td>491.00000</td>\n",
              "      <td>...</td>\n",
              "      <td>2441.000000</td>\n",
              "      <td>2511.000000</td>\n",
              "      <td>2566.000000</td>\n",
              "      <td>2788.000000</td>\n",
              "      <td>2849.000000</td>\n",
              "      <td>2838.000000</td>\n",
              "      <td>2774.000000</td>\n",
              "      <td>2770.000000</td>\n",
              "      <td>2848.000000</td>\n",
              "      <td>6.000000</td>\n",
              "    </tr>\n",
              "    <tr>\n",
              "      <th>max</th>\n",
              "      <td>4866.000000</td>\n",
              "      <td>5230.000000</td>\n",
              "      <td>4917.000000</td>\n",
              "      <td>4594.000000</td>\n",
              "      <td>4480.000000</td>\n",
              "      <td>4726.000000</td>\n",
              "      <td>4011.000000</td>\n",
              "      <td>3536.000000</td>\n",
              "      <td>3062.000000</td>\n",
              "      <td>2833.00000</td>\n",
              "      <td>...</td>\n",
              "      <td>7171.000000</td>\n",
              "      <td>7188.000000</td>\n",
              "      <td>7368.000000</td>\n",
              "      <td>6727.000000</td>\n",
              "      <td>7045.000000</td>\n",
              "      <td>7232.000000</td>\n",
              "      <td>7411.000000</td>\n",
              "      <td>7631.000000</td>\n",
              "      <td>7921.000000</td>\n",
              "      <td>6.000000</td>\n",
              "    </tr>\n",
              "  </tbody>\n",
              "</table>\n",
              "<p>8 rows × 64 columns</p>\n",
              "</div>\n",
              "      <button class=\"colab-df-convert\" onclick=\"convertToInteractive('df-740a1e0a-a6a4-4968-8ffe-e52981662227')\"\n",
              "              title=\"Convert this dataframe to an interactive table.\"\n",
              "              style=\"display:none;\">\n",
              "        \n",
              "  <svg xmlns=\"http://www.w3.org/2000/svg\" height=\"24px\"viewBox=\"0 0 24 24\"\n",
              "       width=\"24px\">\n",
              "    <path d=\"M0 0h24v24H0V0z\" fill=\"none\"/>\n",
              "    <path d=\"M18.56 5.44l.94 2.06.94-2.06 2.06-.94-2.06-.94-.94-2.06-.94 2.06-2.06.94zm-11 1L8.5 8.5l.94-2.06 2.06-.94-2.06-.94L8.5 2.5l-.94 2.06-2.06.94zm10 10l.94 2.06.94-2.06 2.06-.94-2.06-.94-.94-2.06-.94 2.06-2.06.94z\"/><path d=\"M17.41 7.96l-1.37-1.37c-.4-.4-.92-.59-1.43-.59-.52 0-1.04.2-1.43.59L10.3 9.45l-7.72 7.72c-.78.78-.78 2.05 0 2.83L4 21.41c.39.39.9.59 1.41.59.51 0 1.02-.2 1.41-.59l7.78-7.78 2.81-2.81c.8-.78.8-2.07 0-2.86zM5.41 20L4 18.59l7.72-7.72 1.47 1.35L5.41 20z\"/>\n",
              "  </svg>\n",
              "      </button>\n",
              "      \n",
              "  <style>\n",
              "    .colab-df-container {\n",
              "      display:flex;\n",
              "      flex-wrap:wrap;\n",
              "      gap: 12px;\n",
              "    }\n",
              "\n",
              "    .colab-df-convert {\n",
              "      background-color: #E8F0FE;\n",
              "      border: none;\n",
              "      border-radius: 50%;\n",
              "      cursor: pointer;\n",
              "      display: none;\n",
              "      fill: #1967D2;\n",
              "      height: 32px;\n",
              "      padding: 0 0 0 0;\n",
              "      width: 32px;\n",
              "    }\n",
              "\n",
              "    .colab-df-convert:hover {\n",
              "      background-color: #E2EBFA;\n",
              "      box-shadow: 0px 1px 2px rgba(60, 64, 67, 0.3), 0px 1px 3px 1px rgba(60, 64, 67, 0.15);\n",
              "      fill: #174EA6;\n",
              "    }\n",
              "\n",
              "    [theme=dark] .colab-df-convert {\n",
              "      background-color: #3B4455;\n",
              "      fill: #D2E3FC;\n",
              "    }\n",
              "\n",
              "    [theme=dark] .colab-df-convert:hover {\n",
              "      background-color: #434B5C;\n",
              "      box-shadow: 0px 1px 3px 1px rgba(0, 0, 0, 0.15);\n",
              "      filter: drop-shadow(0px 1px 2px rgba(0, 0, 0, 0.3));\n",
              "      fill: #FFFFFF;\n",
              "    }\n",
              "  </style>\n",
              "\n",
              "      <script>\n",
              "        const buttonEl =\n",
              "          document.querySelector('#df-740a1e0a-a6a4-4968-8ffe-e52981662227 button.colab-df-convert');\n",
              "        buttonEl.style.display =\n",
              "          google.colab.kernel.accessAllowed ? 'block' : 'none';\n",
              "\n",
              "        async function convertToInteractive(key) {\n",
              "          const element = document.querySelector('#df-740a1e0a-a6a4-4968-8ffe-e52981662227');\n",
              "          const dataTable =\n",
              "            await google.colab.kernel.invokeFunction('convertToInteractive',\n",
              "                                                     [key], {});\n",
              "          if (!dataTable) return;\n",
              "\n",
              "          const docLinkHtml = 'Like what you see? Visit the ' +\n",
              "            '<a target=\"_blank\" href=https://colab.research.google.com/notebooks/data_table.ipynb>data table notebook</a>'\n",
              "            + ' to learn more about interactive tables.';\n",
              "          element.innerHTML = '';\n",
              "          dataTable['output_type'] = 'display_data';\n",
              "          await google.colab.output.renderOutput(dataTable, element);\n",
              "          const docLink = document.createElement('div');\n",
              "          docLink.innerHTML = docLinkHtml;\n",
              "          element.appendChild(docLink);\n",
              "        }\n",
              "      </script>\n",
              "    </div>\n",
              "  </div>\n",
              "  "
            ]
          },
          "metadata": {},
          "execution_count": 12
        }
      ]
    },
    {
      "cell_type": "code",
      "source": [
        "training[['class', 'classlabel']].apply(lambda x: (x['class'], x['classlabel']), axis=1).unique()"
      ],
      "metadata": {
        "colab": {
          "base_uri": "https://localhost:8080/"
        },
        "id": "CYFHM2aThO0I",
        "outputId": "740affb1-323c-4a25-c960-ff54aa52b4e3"
      },
      "execution_count": 13,
      "outputs": [
        {
          "output_type": "execute_result",
          "data": {
            "text/plain": [
              "array([(1, 'Construction'), (2, 'Dock'), (5, 'Grass'), (4, 'Roof'),\n",
              "       (3, 'Water'), (6, 'Wetland')], dtype=object)"
            ]
          },
          "metadata": {},
          "execution_count": 13
        }
      ]
    },
    {
      "cell_type": "markdown",
      "source": [
        "Checking for Null Values"
      ],
      "metadata": {
        "id": "Omeponauw5yR"
      }
    },
    {
      "cell_type": "code",
      "source": [
        "null_series = training.isnull().sum()\n",
        "null_series[null_series > 0]"
      ],
      "metadata": {
        "id": "MsetfNn6QMVn",
        "colab": {
          "base_uri": "https://localhost:8080/"
        },
        "outputId": "08dd7e59-f1ed-4390-a27a-edd15fd5ce79"
      },
      "execution_count": 14,
      "outputs": [
        {
          "output_type": "execute_result",
          "data": {
            "text/plain": [
              "Series([], dtype: int64)"
            ]
          },
          "metadata": {},
          "execution_count": 14
        }
      ]
    },
    {
      "cell_type": "code",
      "source": [
        "df = training.copy()\n",
        "\n",
        "class_labels = df.pop('classlabel')\n",
        "y = df.pop('class')\n",
        "X = df"
      ],
      "metadata": {
        "id": "cWJVRuYnxj96"
      },
      "execution_count": 15,
      "outputs": []
    },
    {
      "cell_type": "code",
      "source": [
        "y.unique()"
      ],
      "metadata": {
        "colab": {
          "base_uri": "https://localhost:8080/"
        },
        "id": "d3pnrGz1Ded8",
        "outputId": "7ec5a732-bc54-44dd-ca64-88362b4dd939"
      },
      "execution_count": 16,
      "outputs": [
        {
          "output_type": "execute_result",
          "data": {
            "text/plain": [
              "array([1, 2, 5, 4, 3, 6])"
            ]
          },
          "metadata": {},
          "execution_count": 16
        }
      ]
    },
    {
      "cell_type": "code",
      "source": [
        "scaler = StandardScaler()"
      ],
      "metadata": {
        "id": "qUkJvVItyYYh"
      },
      "execution_count": 17,
      "outputs": []
    },
    {
      "cell_type": "code",
      "source": [
        "X_train, X_test, y_train, y_test = train_test_split(X, y, test_size=0.3, random_state=0)"
      ],
      "metadata": {
        "id": "SmWMWonFyxjE"
      },
      "execution_count": 18,
      "outputs": []
    },
    {
      "cell_type": "code",
      "source": [
        "def train_n_test(model, transformer=scaler, X_train=X_train, y_train=y_train, X_test=X_test, return_trained_model=False):\n",
        "  final_pipe = Pipeline([('transformer', transformer), ('model', model)])\n",
        "  final_pipe.fit(X_train, y_train)\n",
        "\n",
        "  if return_trained_model:\n",
        "    return final_pipe \n",
        "\n",
        "  y_train_pred = final_pipe.predict(X_train)\n",
        "  y_test_pred = final_pipe.predict(X_test)\n",
        "  y_train_proba = final_pipe.predict_proba(X_train)\n",
        "  y_test_proba = final_pipe.predict_proba(X_test)\n",
        "\n",
        "  return y_train_pred, y_test_pred, y_train_proba, y_test_proba"
      ],
      "metadata": {
        "id": "4fgKwx61zA8Y"
      },
      "execution_count": 19,
      "outputs": []
    },
    {
      "cell_type": "code",
      "source": [
        "def print_accuracy_score(y_true, y_pred, dataset_type='Test', **kwargs):\n",
        "    print(f\"accuracy_score for {dataset_type} is: {accuracy_score(y_true, y_pred, **kwargs)}\")\n",
        "\n",
        "def print_cohen_kappa_score(y_true, y_pred, dataset_type='Test', **kwargs):\n",
        "    print(f\"cohen_kappa_score for {dataset_type} is: {cohen_kappa_score(y_true, y_pred, **kwargs)}\")\n",
        "\n",
        "def print_classification_report(y_true, y_pred, dataset_type='Test', **kwargs):\n",
        "    print(f\"{dataset_type}:\")\n",
        "    print(classification_report(y_true, y_pred, **kwargs))\n",
        "\n",
        "def print_confusion_matrix(y_true, y_pred, dataset_type='Test', **kwargs):\n",
        "    sorted_labels = sorted(list(y_true.unique()))\n",
        "    cm_df = pd.DataFrame(confusion_matrix(y_true, y_pred, **kwargs), index=['Actual_'+str(i) for i in sorted_labels], \n",
        "                        columns=['Predicted_'+str(i) for i in sorted_labels])\n",
        "\n",
        "    print(f\"{dataset_type}:\")\n",
        "    sns.heatmap(cm_df, annot=True, fmt='d', cmap='YlGnBu')\n",
        "    plt.show()"
      ],
      "metadata": {
        "id": "PwHYdyw81bXV"
      },
      "execution_count": 20,
      "outputs": []
    },
    {
      "cell_type": "code",
      "source": [
        "label_metrics = [print_accuracy_score, print_cohen_kappa_score, print_classification_report, print_confusion_matrix]\n",
        "\n",
        "def evaluate_result(y_train=None, y_train_pred=None, y_train_proba=None, y_test=None, y_test_pred=None, y_test_proba=None, label_metrics=label_metrics, \n",
        "                    dataset_types=['Train', 'Test'], **kwargs):\n",
        "    \n",
        "    pred_type_dict = {'label_metrics': label_metrics} \n",
        "\n",
        "    for k in pred_type_dict:\n",
        "\n",
        "        if k == 'label_metrics':\n",
        "            train_pred, test_pred = y_train_pred, y_test_pred\n",
        "\n",
        "        else: \n",
        "            train_pred, test_pred = y_train_proba, y_test_proba\n",
        "\n",
        "        for f in pred_type_dict[k]:\n",
        "\n",
        "            if y_train is not None and y_test is not None:\n",
        "\n",
        "                for dt in dataset_types:\n",
        "\n",
        "                    if dt == 'Train':\n",
        "                        f(y_train, train_pred, dt, **kwargs)\n",
        "\n",
        "                    elif dt == 'Test':\n",
        "                        f(y_test, test_pred, dt, **kwargs)\n",
        "\n",
        "            elif y_train is not None and y_test is None:\n",
        "                f(y_train, train_pred, dt, **kwargs)\n",
        "\n",
        "            elif y_train is None and y_test is not None:\n",
        "                f(y_test, test_pred, dt, **kwargs)\n",
        "\n",
        "            print('-'*40)"
      ],
      "metadata": {
        "id": "hTL3GvBWBREK"
      },
      "execution_count": 21,
      "outputs": []
    },
    {
      "cell_type": "markdown",
      "source": [
        "Logistics Regression"
      ],
      "metadata": {
        "id": "Cg90Nz1YErsd"
      }
    },
    {
      "cell_type": "code",
      "source": [
        "log_reg = LogisticRegression()\n",
        "\n",
        "y_train_pred, y_test_pred, y_train_proba, y_test_proba = train_n_test(log_reg)\n",
        "\n",
        "evaluate_result(y_train=y_train, y_train_pred=y_train_pred, y_train_proba=y_train_proba, y_test=y_test, y_test_pred=y_test_pred, y_test_proba=y_test_proba)"
      ],
      "metadata": {
        "colab": {
          "base_uri": "https://localhost:8080/",
          "height": 1000
        },
        "id": "gNWhCSsnBnQG",
        "outputId": "d158ae23-87a3-492e-db09-607c8a8f5041"
      },
      "execution_count": 22,
      "outputs": [
        {
          "output_type": "stream",
          "name": "stderr",
          "text": [
            "/usr/local/lib/python3.7/dist-packages/sklearn/linear_model/_logistic.py:818: ConvergenceWarning: lbfgs failed to converge (status=1):\n",
            "STOP: TOTAL NO. of ITERATIONS REACHED LIMIT.\n",
            "\n",
            "Increase the number of iterations (max_iter) or scale the data as shown in:\n",
            "    https://scikit-learn.org/stable/modules/preprocessing.html\n",
            "Please also refer to the documentation for alternative solver options:\n",
            "    https://scikit-learn.org/stable/modules/linear_model.html#logistic-regression\n",
            "  extra_warning_msg=_LOGISTIC_SOLVER_CONVERGENCE_MSG,\n"
          ]
        },
        {
          "output_type": "stream",
          "name": "stdout",
          "text": [
            "accuracy_score for Train is: 0.9979334268211676\n",
            "accuracy_score for Test is: 0.9975895316804407\n",
            "----------------------------------------\n",
            "cohen_kappa_score for Train is: 0.9970467271670912\n",
            "cohen_kappa_score for Test is: 0.9965232445168369\n",
            "----------------------------------------\n",
            "Train:\n",
            "              precision    recall  f1-score   support\n",
            "\n",
            "           1       1.00      1.00      1.00      1403\n",
            "           2       1.00      1.00      1.00       183\n",
            "           3       1.00      1.00      1.00      4011\n",
            "           4       1.00      1.00      1.00       530\n",
            "           5       1.00      0.99      0.99      1577\n",
            "           6       1.00      1.00      1.00      5845\n",
            "\n",
            "    accuracy                           1.00     13549\n",
            "   macro avg       1.00      1.00      1.00     13549\n",
            "weighted avg       1.00      1.00      1.00     13549\n",
            "\n",
            "Test:\n",
            "              precision    recall  f1-score   support\n",
            "\n",
            "           1       1.00      1.00      1.00       560\n",
            "           2       1.00      1.00      1.00        89\n",
            "           3       1.00      1.00      1.00      1762\n",
            "           4       1.00      1.00      1.00       213\n",
            "           5       1.00      0.98      0.99       649\n",
            "           6       0.99      1.00      1.00      2535\n",
            "\n",
            "    accuracy                           1.00      5808\n",
            "   macro avg       1.00      1.00      1.00      5808\n",
            "weighted avg       1.00      1.00      1.00      5808\n",
            "\n",
            "----------------------------------------\n",
            "Train:\n"
          ]
        },
        {
          "output_type": "display_data",
          "data": {
            "text/plain": [
              "<Figure size 432x288 with 2 Axes>"
            ],
            "image/png": "[encoded data removed]"
          },
          "metadata": {
            "needs_background": "light"
          }
        },
        {
          "output_type": "stream",
          "name": "stdout",
          "text": [
            "Test:\n"
          ]
        },
        {
          "output_type": "display_data",
          "data": {
            "text/plain": [
              "<Figure size 432x288 with 2 Axes>"
            ],
            "image/png": "[encoded data removed]"
          },
          "metadata": {
            "needs_background": "light"
          }
        },
        {
          "output_type": "stream",
          "name": "stdout",
          "text": [
            "----------------------------------------\n"
          ]
        }
      ]
    },
    {
      "cell_type": "code",
      "source": [
        "log_loss(y_train, y_train_proba)"
      ],
      "metadata": {
        "colab": {
          "base_uri": "https://localhost:8080/"
        },
        "id": "h5ptICP5XcWA",
        "outputId": "5d36800a-7c23-4205-e642-3ab01ce2dcdd"
      },
      "execution_count": 23,
      "outputs": [
        {
          "output_type": "execute_result",
          "data": {
            "text/plain": [
              "0.015153718640221574"
            ]
          },
          "metadata": {},
          "execution_count": 23
        }
      ]
    },
    {
      "cell_type": "markdown",
      "source": [
        "Using the default hyperparameters of a Logistics Regression, the model did not converge even though it has an accuracy score of over 99%. We could increase the number of iterations to make the model converge. It is noteworthy that despite the non-convergence, the model has a pretty good performance. It is reflective of the fact that there could be clear linear boundaries that separate the classes in the data."
      ],
      "metadata": {
        "id": "mKKAmsB_ORYF"
      }
    },
    {
      "cell_type": "code",
      "source": [
        "# Using maximum iteration of 300\n",
        "log_reg2 = LogisticRegression(max_iter=300)\n",
        "\n",
        "y_train_pred, y_test_pred, y_train_proba, y_test_proba = train_n_test(log_reg2)\n",
        "\n",
        "evaluate_result(y_train=y_train, y_train_pred=y_train_pred, y_train_proba=y_train_proba, y_test=y_test, y_test_pred=y_test_pred, y_test_proba=y_test_proba)"
      ],
      "metadata": {
        "colab": {
          "base_uri": "https://localhost:8080/",
          "height": 1000
        },
        "id": "kk_v2dA5Egob",
        "outputId": "f9789f6c-6881-4f46-9f68-89e6aaa84461"
      },
      "execution_count": 24,
      "outputs": [
        {
          "output_type": "stream",
          "name": "stdout",
          "text": [
            "accuracy_score for Train is: 0.9979334268211676\n",
            "accuracy_score for Test is: 0.9975895316804407\n",
            "----------------------------------------\n",
            "cohen_kappa_score for Train is: 0.9970467271670912\n",
            "cohen_kappa_score for Test is: 0.9965232445168369\n",
            "----------------------------------------\n",
            "Train:\n",
            "              precision    recall  f1-score   support\n",
            "\n",
            "           1       1.00      1.00      1.00      1403\n",
            "           2       1.00      1.00      1.00       183\n",
            "           3       1.00      1.00      1.00      4011\n",
            "           4       1.00      1.00      1.00       530\n",
            "           5       1.00      0.99      0.99      1577\n",
            "           6       1.00      1.00      1.00      5845\n",
            "\n",
            "    accuracy                           1.00     13549\n",
            "   macro avg       1.00      1.00      1.00     13549\n",
            "weighted avg       1.00      1.00      1.00     13549\n",
            "\n",
            "Test:\n",
            "              precision    recall  f1-score   support\n",
            "\n",
            "           1       1.00      1.00      1.00       560\n",
            "           2       1.00      1.00      1.00        89\n",
            "           3       1.00      1.00      1.00      1762\n",
            "           4       1.00      1.00      1.00       213\n",
            "           5       1.00      0.98      0.99       649\n",
            "           6       0.99      1.00      1.00      2535\n",
            "\n",
            "    accuracy                           1.00      5808\n",
            "   macro avg       1.00      1.00      1.00      5808\n",
            "weighted avg       1.00      1.00      1.00      5808\n",
            "\n",
            "----------------------------------------\n",
            "Train:\n"
          ]
        },
        {
          "output_type": "display_data",
          "data": {
            "text/plain": [
              "<Figure size 432x288 with 2 Axes>"
            ],
            "image/png": "[encoded data removed]"
          },
          "metadata": {
            "needs_background": "light"
          }
        },
        {
          "output_type": "stream",
          "name": "stdout",
          "text": [
            "Test:\n"
          ]
        },
        {
          "output_type": "display_data",
          "data": {
            "text/plain": [
              "<Figure size 432x288 with 2 Axes>"
            ],
            "image/png": "[encoded data removed]"
          },
          "metadata": {
            "needs_background": "light"
          }
        },
        {
          "output_type": "stream",
          "name": "stdout",
          "text": [
            "----------------------------------------\n"
          ]
        }
      ]
    },
    {
      "cell_type": "code",
      "source": [
        "log_loss(y_train, y_train_proba)"
      ],
      "metadata": {
        "colab": {
          "base_uri": "https://localhost:8080/"
        },
        "id": "6SVERi-TaNkG",
        "outputId": "5f7a8ccb-410f-40db-ac21-25b97a09f323"
      },
      "execution_count": 25,
      "outputs": [
        {
          "output_type": "execute_result",
          "data": {
            "text/plain": [
              "0.01509259611192972"
            ]
          },
          "metadata": {},
          "execution_count": 25
        }
      ]
    },
    {
      "cell_type": "code",
      "source": [
        "y_test_proba"
      ],
      "metadata": {
        "colab": {
          "base_uri": "https://localhost:8080/"
        },
        "id": "TACj60J4gGqP",
        "outputId": "bfcd13aa-ea6b-4238-ab17-2d1ea54ec82e"
      },
      "execution_count": 26,
      "outputs": [
        {
          "output_type": "execute_result",
          "data": {
            "text/plain": [
              "array([[4.85687867e-08, 2.12165519e-07, 9.40547866e-06, 2.46592534e-08,\n",
              "        1.94687344e-05, 9.99970840e-01],\n",
              "       [5.48866739e-10, 2.05833583e-08, 1.53546118e-05, 3.92265818e-10,\n",
              "        1.80586770e-05, 9.99966565e-01],\n",
              "       [7.11497465e-18, 1.35683247e-16, 9.98055791e-01, 1.01662455e-16,\n",
              "        3.94529216e-15, 1.94420891e-03],\n",
              "       ...,\n",
              "       [6.68078431e-18, 1.26045770e-16, 9.98663463e-01, 9.00771132e-17,\n",
              "        3.54856860e-15, 1.33653740e-03],\n",
              "       [2.15863242e-07, 3.48706719e-06, 9.92007744e-08, 2.94214548e-08,\n",
              "        1.28244548e-02, 9.87171714e-01],\n",
              "       [2.07360836e-05, 9.47596709e-05, 2.82056683e-13, 3.34849007e-07,\n",
              "        9.88113587e-01, 1.17705826e-02]])"
            ]
          },
          "metadata": {},
          "execution_count": 26
        }
      ]
    },
    {
      "cell_type": "code",
      "source": [
        "print (log_reg2.coef_)"
      ],
      "metadata": {
        "colab": {
          "base_uri": "https://localhost:8080/"
        },
        "id": "scWFuGhIFW3x",
        "outputId": "709565bb-891b-4452-9e9a-b4e393a78236"
      },
      "execution_count": 29,
      "outputs": [
        {
          "output_type": "stream",
          "name": "stdout",
          "text": [
            "[[ 6.86913653e-01  4.57611818e-02 -3.90781732e-01 -4.83632503e-01\n",
            "  -5.56690983e-01 -4.62789688e-01 -4.35664111e-01 -3.57394679e-01\n",
            "  -2.73547934e-01 -1.04929663e-01  1.15008220e-01  3.59746075e-01\n",
            "   5.70130758e-01  6.39300380e-01  5.14236837e-01  5.45186424e-01\n",
            "   6.14908042e-01  7.87328899e-01  1.02527193e+00  1.19073388e+00\n",
            "   1.09707222e+00  9.57052619e-01  6.21367694e-01  5.91469743e-01\n",
            "   6.51651301e-01  7.15991362e-01  5.49716741e-01  6.94742203e-01\n",
            "   7.56723359e-01  7.52136524e-01  7.93848948e-01  9.49011940e-01\n",
            "   4.81584293e-01  1.12683227e-02  1.18845578e-01 -5.46711237e-02\n",
            "  -2.34560481e-01 -4.12508002e-01 -3.46871112e-01 -1.10659395e-01\n",
            "  -2.32375751e-01 -2.47428981e-01 -2.42383395e-01 -2.30724875e-01\n",
            "  -2.35278244e-01 -1.64946288e-01 -1.30757471e-01 -7.11530125e-02\n",
            "  -4.38697580e-02 -1.73373522e-02 -2.62682623e-02 -7.76132369e-03\n",
            "  -3.47918798e-02 -1.29687923e-02  5.09224270e-03  7.40298251e-02\n",
            "   1.04350094e-01  1.13363921e+00  7.67718671e-01  6.92532376e-01\n",
            "   4.26341241e-01  3.58329225e-01  4.36117915e-01]\n",
            " [ 7.64271537e-02  1.59243773e-01  1.63953217e-01  1.41002768e-01\n",
            "   9.87732207e-02  3.83576493e-02 -2.70563820e-02 -8.63944662e-02\n",
            "  -1.56801907e-01 -2.32676170e-01 -3.06599301e-01 -3.90582596e-01\n",
            "  -4.99861197e-01 -6.31421638e-01 -7.81044306e-01 -8.94300755e-01\n",
            "  -9.68524886e-01 -9.83146030e-01 -8.34389432e-01 -5.19215388e-01\n",
            "  -7.36342282e-02  4.65556435e-01  8.64212914e-01  1.03543477e+00\n",
            "   1.07335937e+00  9.95384819e-01  1.02817699e+00  1.03209453e+00\n",
            "   1.03930371e+00  1.11277188e+00  1.14021166e+00  9.91628242e-01\n",
            "   1.03171043e+00  9.96928172e-01  8.63418329e-01  9.31275002e-01\n",
            "   8.67525579e-01  7.31274926e-01  6.01766376e-01  4.27866144e-01\n",
            "   3.62609764e-01  2.43027923e-01  1.51958569e-01  5.07004363e-02\n",
            "  -3.60634867e-02 -5.75202816e-02 -1.73460941e-01 -3.09265891e-01\n",
            "  -4.13631921e-01 -4.57884204e-01 -4.95947172e-01 -5.10104348e-01\n",
            "  -4.94109425e-01 -3.56228574e-01 -2.17857718e-01 -9.27298576e-02\n",
            "  -6.97900648e-02  7.52665267e-01  1.06436940e+00  1.01259481e+00\n",
            "   6.55912896e-01  4.57393553e-01  4.38840175e-01]\n",
            " [-1.45366412e-02 -4.25315101e-02 -9.09691346e-02 -8.74141941e-02\n",
            "  -1.11887601e-01 -1.32817632e-01 -1.59507402e-01 -1.81144592e-01\n",
            "  -2.01626880e-01 -2.02901791e-01 -1.71215361e-01 -1.66527561e-01\n",
            "  -1.71463719e-01 -1.59408011e-01 -1.99498852e-01 -2.46401312e-01\n",
            "  -2.61568679e-01 -2.84749631e-01 -2.63801805e-01 -2.35288572e-01\n",
            "  -3.58337389e-01 -5.15315643e-01 -9.39823251e-01 -1.00005425e+00\n",
            "  -9.56898660e-01 -9.07949872e-01 -1.00331390e+00 -9.95485025e-01\n",
            "  -9.89308255e-01 -9.19366009e-01 -8.57972806e-01 -8.80384714e-01\n",
            "  -1.24516456e+00 -1.61617866e+00 -1.59384149e+00 -1.34468698e+00\n",
            "  -1.22612834e+00 -1.29095489e+00 -1.30478014e+00 -1.28124308e+00\n",
            "  -1.32975912e+00 -1.39662640e+00 -1.44538897e+00 -1.52570522e+00\n",
            "  -1.55885559e+00 -1.35769700e+00 -1.11624493e+00 -9.90136999e-01\n",
            "  -9.50797561e-01 -8.93610278e-01 -8.49235342e-01 -7.66443674e-01\n",
            "  -6.93572615e-01 -5.07168108e-01 -3.92222556e-01 -2.76604670e-01\n",
            "  -1.29379659e-01  6.07860480e-01  6.90038088e-01  5.61733151e-01\n",
            "   2.33046888e-01  1.45716826e-01  1.38682915e-01]\n",
            " [ 4.76705817e-01  4.77222567e-01  4.72665133e-01  4.57860641e-01\n",
            "   4.51274332e-01  4.51197820e-01  4.88102725e-01  5.21139302e-01\n",
            "   5.57669139e-01  5.69837983e-01  5.61766876e-01  5.53680996e-01\n",
            "   4.98158639e-01  4.51392558e-01  4.06217206e-01  3.91978665e-01\n",
            "   3.77101712e-01  3.64715195e-01  3.61731108e-01  3.52226658e-01\n",
            "   3.31455545e-01  3.21671204e-01  3.11756213e-01  3.31372963e-01\n",
            "   3.48015552e-01  3.77445082e-01  3.84827460e-01  3.65926547e-01\n",
            "   3.49573757e-01  3.44274244e-01  3.23881738e-01  2.78067365e-01\n",
            "   2.60987692e-01  2.46046336e-01  1.91867157e-01  1.24877386e-01\n",
            "   9.18934086e-02  9.36699137e-02  8.78368082e-02  8.72931423e-02\n",
            "   8.09358747e-02  8.65289284e-02  9.12528007e-02  9.75295237e-02\n",
            "   9.64059193e-02  7.31003254e-02  4.80946664e-02  3.24755671e-02\n",
            "   2.86293282e-02  2.08637816e-02  1.40876459e-02  3.61378231e-03\n",
            "  -1.07973417e-02 -2.95989646e-02 -5.04963010e-02 -7.01671026e-02\n",
            "  -9.33497795e-02 -1.79174378e-01 -1.87672079e-01 -1.91453232e-01\n",
            "  -1.73779327e-01 -1.67247952e-01 -1.59883337e-01]\n",
            " [-8.24075668e-01 -8.50955784e-01 -6.15393691e-01 -6.25896156e-01\n",
            "  -6.45812424e-01 -7.73630559e-01 -8.25765061e-01 -9.98727191e-01\n",
            "  -1.26141301e+00 -1.49079858e+00 -1.51831851e+00 -1.38739746e+00\n",
            "  -1.21698226e+00 -4.29727413e-01  2.14979590e-01  5.77586620e-01\n",
            "   5.89813910e-01  5.97500286e-01  4.56911394e-01  2.14662690e-01\n",
            "   9.58755421e-02 -1.40662570e-01  1.57141112e-01  1.74836617e-01\n",
            "   7.32741436e-02  1.44553762e-01  2.08510531e-01 -2.81986072e-01\n",
            "  -5.41154609e-01 -9.88792556e-01 -1.23014158e+00 -4.41228934e-01\n",
            "   1.91471822e+00  3.78577468e+00  3.66689808e+00  2.46899017e+00\n",
            "   7.74360560e-01 -1.04305980e-01 -6.55881357e-01 -1.10405267e-01\n",
            "  -6.13127818e-01 -4.87542168e-01 -2.91434124e-01 -2.02725394e-01\n",
            "   1.99567934e-01  1.05377751e-02  2.70736001e-01  3.91115109e-01\n",
            "   6.82073366e-01  5.76620184e-01  7.88491177e-01  7.60560622e-01\n",
            "   8.45462364e-01  1.13881464e+00  3.82608006e-01  6.56791489e-02\n",
            "   9.07643533e-01  8.17134242e-02  2.09158804e-01  1.18066864e-01\n",
            "  -1.50423097e-01  9.54886134e-01  1.19095739e+00]\n",
            " [-4.01434314e-01  2.11259772e-01  4.60526208e-01  5.98079444e-01\n",
            "   7.64343455e-01  8.79682410e-01  9.59890231e-01  1.10252163e+00\n",
            "   1.33572059e+00  1.46146822e+00  1.31935808e+00  1.03108054e+00\n",
            "   8.20017781e-01  1.29864125e-01 -1.54890476e-01 -3.74049642e-01\n",
            "  -3.51730098e-01 -4.81648719e-01 -7.45723198e-01 -1.00311926e+00\n",
            "  -1.09243169e+00 -1.08830205e+00 -1.01465468e+00 -1.13305984e+00\n",
            "  -1.18940171e+00 -1.32542515e+00 -1.16791782e+00 -8.15292180e-01\n",
            "  -6.15137959e-01 -3.01024084e-01 -1.69827957e-01 -8.97093899e-01\n",
            "  -2.44383608e+00 -3.42383884e+00 -3.24718766e+00 -2.12578445e+00\n",
            "  -2.73090725e-01  9.82824034e-01  1.61792942e+00  9.87148456e-01\n",
            "   1.73171705e+00  1.80204069e+00  1.73599512e+00  1.81092553e+00\n",
            "   1.53422347e+00  1.49652547e+00  1.10163267e+00  9.46965227e-01\n",
            "   6.97596545e-01  7.71347869e-01  5.68871954e-01  5.20134941e-01\n",
            "   3.87808897e-01 -2.32850199e-01  2.72876327e-01  2.99792657e-01\n",
            "  -7.19474123e-01 -2.39670401e+00 -2.54361289e+00 -2.19347396e+00\n",
            "  -9.91098601e-01 -1.74907779e+00 -2.04471506e+00]]\n"
          ]
        }
      ]
    },
    {
      "cell_type": "markdown",
      "source": [
        "When max iter of 300 was used, the model did converge with an accuracy score of over 99%. This is indicative of the fact that the data is linearly separable. Also, the model with increased iteration saw a further decrease in the loss function which is the cross entropy loss. The low cross entropy loss function is an indication of accurate classification by the model. This shows that the converged Logistic regression model reduced the error further than the uncoverged one. Since there was no corresonding increase in the model's accuracy, it shows that the new hyperplane from the converged model did not really correct some misclassification of the uncoverged model instead, the new hyperplane was postioned such that the points are farther from it. Also with cohen kappa scores of greater than 99% it shows that the classifier is in almost perfect agreement with the data."
      ],
      "metadata": {
        "id": "y_Yyzun3NIrq"
      }
    },
    {
      "cell_type": "markdown",
      "source": [
        "K Nearest Neighbours (KNN)"
      ],
      "metadata": {
        "id": "zkKEbavvFO8a"
      }
    },
    {
      "cell_type": "code",
      "source": [
        "knn = KNeighborsClassifier(n_neighbors=10) # k = 10, try different values\n",
        "\n",
        "y_train_pred, y_test_pred, y_train_proba, y_test_proba = train_n_test(knn)\n",
        "\n",
        "evaluate_result(y_train=y_train, y_train_pred=y_train_pred, y_train_proba=y_train_proba, y_test=y_test, y_test_pred=y_test_pred, y_test_proba=y_test_proba)"
      ],
      "metadata": {
        "colab": {
          "base_uri": "https://localhost:8080/",
          "height": 1000
        },
        "id": "OPBAB2wRFWS9",
        "outputId": "adc93e4a-1cbc-44bb-89e7-b1aef43c6d04"
      },
      "execution_count": null,
      "outputs": [
        {
          "output_type": "stream",
          "name": "stdout",
          "text": [
            "accuracy_score for Train is: 0.9982286515610008\n",
            "accuracy_score for Test is: 0.9974173553719008\n",
            "----------------------------------------\n",
            "cohen_kappa_score for Train is: 0.9974687930208508\n",
            "cohen_kappa_score for Test is: 0.9962745902380666\n",
            "----------------------------------------\n",
            "Train:\n",
            "              precision    recall  f1-score   support\n",
            "\n",
            "           1       1.00      0.99      1.00      1403\n",
            "           2       1.00      1.00      1.00       183\n",
            "           3       1.00      1.00      1.00      4011\n",
            "           4       1.00      1.00      1.00       530\n",
            "           5       1.00      0.99      0.99      1577\n",
            "           6       1.00      1.00      1.00      5845\n",
            "\n",
            "    accuracy                           1.00     13549\n",
            "   macro avg       1.00      1.00      1.00     13549\n",
            "weighted avg       1.00      1.00      1.00     13549\n",
            "\n",
            "Test:\n",
            "              precision    recall  f1-score   support\n",
            "\n",
            "           1       1.00      0.99      1.00       560\n",
            "           2       1.00      1.00      1.00        89\n",
            "           3       1.00      1.00      1.00      1762\n",
            "           4       1.00      1.00      1.00       213\n",
            "           5       1.00      0.98      0.99       649\n",
            "           6       0.99      1.00      1.00      2535\n",
            "\n",
            "    accuracy                           1.00      5808\n",
            "   macro avg       1.00      1.00      1.00      5808\n",
            "weighted avg       1.00      1.00      1.00      5808\n",
            "\n",
            "----------------------------------------\n",
            "Train:\n"
          ]
        },
        {
          "output_type": "display_data",
          "data": {
            "text/plain": [
              "<Figure size 432x288 with 2 Axes>"
            ],
            "image/png": "[encoded data removed]"
          },
          "metadata": {
            "needs_background": "light"
          }
        },
        {
          "output_type": "stream",
          "name": "stdout",
          "text": [
            "Test:\n"
          ]
        },
        {
          "output_type": "display_data",
          "data": {
            "text/plain": [
              "<Figure size 432x288 with 2 Axes>"
            ],
            "image/png": "[encoded data removed]"
          },
          "metadata": {
            "needs_background": "light"
          }
        },
        {
          "output_type": "stream",
          "name": "stdout",
          "text": [
            "----------------------------------------\n"
          ]
        }
      ]
    },
    {
      "cell_type": "markdown",
      "source": [
        "For KNN, the training accuracy increased compared that of Logistics Regression. This shows that 10 nearest neighbors was able to correct some missclassification if the Logistic Regression model. As seen in the confusion matrix of the training set, the missclassification of class 5 was decreased from 21 to 16 when using KNN model. However, Logistic regression performed slightly better in the testing set. This shows that a linear hyperplane model slightly generalize well than a cluster based model for the data."
      ],
      "metadata": {
        "id": "qd5H13ZulRh5"
      }
    },
    {
      "cell_type": "code",
      "source": [
        "dtc = DecisionTreeClassifier(max_depth=5, random_state=42) # try different parameters, include min_samples_leaf=5\n",
        "\n",
        "y_train_pred, y_test_pred, y_train_proba, y_test_proba = train_n_test(dtc)\n",
        "\n",
        "evaluate_result(y_train=y_train, y_train_pred=y_train_pred, y_train_proba=y_train_proba, y_test=y_test, y_test_pred=y_test_pred, y_test_proba=y_test_proba)"
      ],
      "metadata": {
        "colab": {
          "base_uri": "https://localhost:8080/",
          "height": 1000
        },
        "id": "cQHYqsnTMXME",
        "outputId": "4be9d60d-9a8a-4c95-d503-b72f85338a2c"
      },
      "execution_count": null,
      "outputs": [
        {
          "output_type": "stream",
          "name": "stdout",
          "text": [
            "accuracy_score for Train is: 0.9985238763008341\n",
            "accuracy_score for Test is: 0.9977617079889807\n",
            "----------------------------------------\n",
            "cohen_kappa_score for Train is: 0.9978909253987048\n",
            "cohen_kappa_score for Test is: 0.9967724545858191\n",
            "----------------------------------------\n",
            "Train:\n",
            "              precision    recall  f1-score   support\n",
            "\n",
            "           1       1.00      1.00      1.00      1403\n",
            "           2       0.99      1.00      0.99       183\n",
            "           3       1.00      1.00      1.00      4011\n",
            "           4       1.00      1.00      1.00       530\n",
            "           5       1.00      0.99      0.99      1577\n",
            "           6       1.00      1.00      1.00      5845\n",
            "\n",
            "    accuracy                           1.00     13549\n",
            "   macro avg       1.00      1.00      1.00     13549\n",
            "weighted avg       1.00      1.00      1.00     13549\n",
            "\n",
            "Test:\n",
            "              precision    recall  f1-score   support\n",
            "\n",
            "           1       1.00      1.00      1.00       560\n",
            "           2       0.99      1.00      0.99        89\n",
            "           3       1.00      1.00      1.00      1762\n",
            "           4       1.00      1.00      1.00       213\n",
            "           5       1.00      0.98      0.99       649\n",
            "           6       1.00      1.00      1.00      2535\n",
            "\n",
            "    accuracy                           1.00      5808\n",
            "   macro avg       1.00      1.00      1.00      5808\n",
            "weighted avg       1.00      1.00      1.00      5808\n",
            "\n",
            "----------------------------------------\n",
            "Train:\n"
          ]
        },
        {
          "output_type": "display_data",
          "data": {
            "text/plain": [
              "<Figure size 432x288 with 2 Axes>"
            ],
            "image/png": "[encoded data removed]"
          },
          "metadata": {
            "needs_background": "light"
          }
        },
        {
          "output_type": "stream",
          "name": "stdout",
          "text": [
            "Test:\n"
          ]
        },
        {
          "output_type": "display_data",
          "data": {
            "text/plain": [
              "<Figure size 432x288 with 2 Axes>"
            ],
            "image/png": "[encoded data removed]"
          },
          "metadata": {
            "needs_background": "light"
          }
        },
        {
          "output_type": "stream",
          "name": "stdout",
          "text": [
            "----------------------------------------\n"
          ]
        }
      ]
    },
    {
      "cell_type": "code",
      "source": [
        "pd.Series(dtc.feature_importances_, index=X_train.columns).sort_values(ascending=False)"
      ],
      "metadata": {
        "colab": {
          "base_uri": "https://localhost:8080/"
        },
        "id": "_YTHbtw2noet",
        "outputId": "ae498fed-8cd0-4cf3-e965-2b8e6e3190cd"
      },
      "execution_count": null,
      "outputs": [
        {
          "output_type": "execute_result",
          "data": {
            "text/plain": [
              "Band_49    0.426745\n",
              "Band_34    0.317670\n",
              "Band_29    0.140668\n",
              "Band_15    0.075373\n",
              "Band_18    0.033826\n",
              "             ...   \n",
              "Band_28    0.000000\n",
              "Band_30    0.000000\n",
              "Band_31    0.000000\n",
              "Band_2     0.000000\n",
              "Band_63    0.000000\n",
              "Length: 63, dtype: float64"
            ]
          },
          "metadata": {},
          "execution_count": 67
        }
      ]
    },
    {
      "cell_type": "code",
      "source": [
        "# export the tree structure\n",
        "tree_str = export_graphviz(dtc, feature_names=X_train.columns, \n",
        "                                     filled=True, out_file=None)\n",
        "\n",
        "# Draw graph\n",
        "graph1 = graphviz.Source(tree_str, format=\"png\") \n",
        "graph1.render(\"graph1\") # save the graph, check your folder\n",
        "graph1"
      ],
      "metadata": {
        "colab": {
          "base_uri": "https://localhost:8080/",
          "height": 816
        },
        "id": "So15EdWlMh9k",
        "outputId": "63425e12-a88b-4adb-89d9-995615cf491f"
      },
      "execution_count": null,
      "outputs": [
        {
          "output_type": "execute_result",
          "data": {
            "text/plain": [
              "<graphviz.files.Source at 0x7fc22c649a10>"
            ],
            "image/svg+xml": "<?xml version=\"1.0\" encoding=\"UTF-8\" standalone=\"no\"?>\n<!DOCTYPE svg PUBLIC \"-//W3C//DTD SVG 1.1//EN\"\n \"http://www.w3.org/Graphics/SVG/1.1/DTD/svg11.dtd\">\n<!-- Generated by graphviz version 2.40.1 (20161225.0304)\n -->\n<!-- Title: Tree Pages: 1 -->\n<svg width=\"1911pt\" height=\"581pt\"\n viewBox=\"0.00 0.00 1911.00 581.00\" xmlns=\"http://www.w3.org/2000/svg\" xmlns:xlink=\"http://www.w3.org/1999/xlink\">\n<g id=\"graph0\" class=\"graph\" transform=\"scale(1 1) rotate(0) translate(4 577)\">\n<title>Tree</title>\n<polygon fill=\"#ffffff\" stroke=\"transparent\" points=\"-4,4 -4,-577 1907,-577 1907,4 -4,4\"/>\n<!-- 0 -->\n<g id=\"node1\" class=\"node\">\n<title>0</title>\n<polygon fill=\"#fad9ec\" stroke=\"#000000\" points=\"989.5,-573 695.5,-573 695.5,-505 989.5,-505 989.5,-573\"/>\n<text text-anchor=\"middle\" x=\"842.5\" y=\"-557.8\" font-family=\"Helvetica,sans-Serif\" font-size=\"14.00\" fill=\"#000000\">Band_49 &lt;= &#45;0.939</text>\n<text text-anchor=\"middle\" x=\"842.5\" y=\"-542.8\" font-family=\"Helvetica,sans-Serif\" font-size=\"14.00\" fill=\"#000000\">gini = 0.7</text>\n<text text-anchor=\"middle\" x=\"842.5\" y=\"-527.8\" font-family=\"Helvetica,sans-Serif\" font-size=\"14.00\" fill=\"#000000\">samples = 13549</text>\n<text text-anchor=\"middle\" x=\"842.5\" y=\"-512.8\" font-family=\"Helvetica,sans-Serif\" font-size=\"14.00\" fill=\"#000000\">value = [1403, 183, 4011, 530, 1577, 5845]</text>\n</g>\n<!-- 1 -->\n<g id=\"node2\" class=\"node\">\n<title>1</title>\n<polygon fill=\"#39e581\" stroke=\"#000000\" points=\"813,-461.5 626,-461.5 626,-408.5 813,-408.5 813,-461.5\"/>\n<text text-anchor=\"middle\" x=\"719.5\" y=\"-446.3\" font-family=\"Helvetica,sans-Serif\" font-size=\"14.00\" fill=\"#000000\">gini = 0.0</text>\n<text text-anchor=\"middle\" x=\"719.5\" y=\"-431.3\" font-family=\"Helvetica,sans-Serif\" font-size=\"14.00\" fill=\"#000000\">samples = 4011</text>\n<text text-anchor=\"middle\" x=\"719.5\" y=\"-416.3\" font-family=\"Helvetica,sans-Serif\" font-size=\"14.00\" fill=\"#000000\">value = [0, 0, 4011, 0, 0, 0]</text>\n</g>\n<!-- 0&#45;&gt;1 -->\n<g id=\"edge1\" class=\"edge\">\n<title>0&#45;&gt;1</title>\n<path fill=\"none\" stroke=\"#000000\" d=\"M802.2252,-504.9465C788.2861,-493.1606 772.6888,-479.9726 758.8268,-468.2519\"/>\n<polygon fill=\"#000000\" stroke=\"#000000\" points=\"760.7873,-465.3262 750.8912,-461.5422 756.2676,-470.6715 760.7873,-465.3262\"/>\n<text text-anchor=\"middle\" x=\"752.9764\" y=\"-482.755\" font-family=\"Helvetica,sans-Serif\" font-size=\"14.00\" fill=\"#000000\">True</text>\n</g>\n<!-- 2 -->\n<g id=\"node3\" class=\"node\">\n<title>2</title>\n<polygon fill=\"#f195ca\" stroke=\"#000000\" points=\"1100,-469 831,-469 831,-401 1100,-401 1100,-469\"/>\n<text text-anchor=\"middle\" x=\"965.5\" y=\"-453.8\" font-family=\"Helvetica,sans-Serif\" font-size=\"14.00\" fill=\"#000000\">Band_34 &lt;= &#45;0.054</text>\n<text text-anchor=\"middle\" x=\"965.5\" y=\"-438.8\" font-family=\"Helvetica,sans-Serif\" font-size=\"14.00\" fill=\"#000000\">gini = 0.572</text>\n<text text-anchor=\"middle\" x=\"965.5\" y=\"-423.8\" font-family=\"Helvetica,sans-Serif\" font-size=\"14.00\" fill=\"#000000\">samples = 9538</text>\n<text text-anchor=\"middle\" x=\"965.5\" y=\"-408.8\" font-family=\"Helvetica,sans-Serif\" font-size=\"14.00\" fill=\"#000000\">value = [1403, 183, 0, 530, 1577, 5845]</text>\n</g>\n<!-- 0&#45;&gt;2 -->\n<g id=\"edge2\" class=\"edge\">\n<title>0&#45;&gt;2</title>\n<path fill=\"none\" stroke=\"#000000\" d=\"M882.7748,-504.9465C893.8184,-495.6088 905.9028,-485.3911 917.3404,-475.7203\"/>\n<polygon fill=\"#000000\" stroke=\"#000000\" points=\"919.7583,-478.2594 925.1347,-469.13 915.2386,-472.914 919.7583,-478.2594\"/>\n<text text-anchor=\"middle\" x=\"923.0495\" y=\"-490.3429\" font-family=\"Helvetica,sans-Serif\" font-size=\"14.00\" fill=\"#000000\">False</text>\n</g>\n<!-- 3 -->\n<g id=\"node4\" class=\"node\">\n<title>3</title>\n<polygon fill=\"#e53a9d\" stroke=\"#000000\" points=\"928,-365 733,-365 733,-297 928,-297 928,-365\"/>\n<text text-anchor=\"middle\" x=\"830.5\" y=\"-349.8\" font-family=\"Helvetica,sans-Serif\" font-size=\"14.00\" fill=\"#000000\">Band_62 &lt;= 0.488</text>\n<text text-anchor=\"middle\" x=\"830.5\" y=\"-334.8\" font-family=\"Helvetica,sans-Serif\" font-size=\"14.00\" fill=\"#000000\">gini = 0.01</text>\n<text text-anchor=\"middle\" x=\"830.5\" y=\"-319.8\" font-family=\"Helvetica,sans-Serif\" font-size=\"14.00\" fill=\"#000000\">samples = 5858</text>\n<text text-anchor=\"middle\" x=\"830.5\" y=\"-304.8\" font-family=\"Helvetica,sans-Serif\" font-size=\"14.00\" fill=\"#000000\">value = [2, 0, 0, 0, 27, 5829]</text>\n</g>\n<!-- 2&#45;&gt;3 -->\n<g id=\"edge3\" class=\"edge\">\n<title>2&#45;&gt;3</title>\n<path fill=\"none\" stroke=\"#000000\" d=\"M921.296,-400.9465C909.0584,-391.519 895.6564,-381.1946 882.9962,-371.4415\"/>\n<polygon fill=\"#000000\" stroke=\"#000000\" points=\"884.8612,-368.4601 874.8034,-365.13 880.5893,-374.0055 884.8612,-368.4601\"/>\n</g>\n<!-- 12 -->\n<g id=\"node13\" class=\"node\">\n<title>12</title>\n<polygon fill=\"#f7f2fd\" stroke=\"#000000\" points=\"1317,-365 1064,-365 1064,-297 1317,-297 1317,-365\"/>\n<text text-anchor=\"middle\" x=\"1190.5\" y=\"-349.8\" font-family=\"Helvetica,sans-Serif\" font-size=\"14.00\" fill=\"#000000\">Band_29 &lt;= 0.526</text>\n<text text-anchor=\"middle\" x=\"1190.5\" y=\"-334.8\" font-family=\"Helvetica,sans-Serif\" font-size=\"14.00\" fill=\"#000000\">gini = 0.654</text>\n<text text-anchor=\"middle\" x=\"1190.5\" y=\"-319.8\" font-family=\"Helvetica,sans-Serif\" font-size=\"14.00\" fill=\"#000000\">samples = 3680</text>\n<text text-anchor=\"middle\" x=\"1190.5\" y=\"-304.8\" font-family=\"Helvetica,sans-Serif\" font-size=\"14.00\" fill=\"#000000\">value = [1401, 183, 0, 530, 1550, 16]</text>\n</g>\n<!-- 2&#45;&gt;12 -->\n<g id=\"edge12\" class=\"edge\">\n<title>2&#45;&gt;12</title>\n<path fill=\"none\" stroke=\"#000000\" d=\"M1039.1734,-400.9465C1061.0262,-390.8457 1085.1068,-379.7151 1107.5078,-369.3608\"/>\n<polygon fill=\"#000000\" stroke=\"#000000\" points=\"1109.0523,-372.5028 1116.6611,-365.13 1106.1153,-366.1487 1109.0523,-372.5028\"/>\n</g>\n<!-- 4 -->\n<g id=\"node5\" class=\"node\">\n<title>4</title>\n<polygon fill=\"#e53a9d\" stroke=\"#000000\" points=\"671,-261 476,-261 476,-193 671,-193 671,-261\"/>\n<text text-anchor=\"middle\" x=\"573.5\" y=\"-245.8\" font-family=\"Helvetica,sans-Serif\" font-size=\"14.00\" fill=\"#000000\">Band_35 &lt;= 0.013</text>\n<text text-anchor=\"middle\" x=\"573.5\" y=\"-230.8\" font-family=\"Helvetica,sans-Serif\" font-size=\"14.00\" fill=\"#000000\">gini = 0.006</text>\n<text text-anchor=\"middle\" x=\"573.5\" y=\"-215.8\" font-family=\"Helvetica,sans-Serif\" font-size=\"14.00\" fill=\"#000000\">samples = 5848</text>\n<text text-anchor=\"middle\" x=\"573.5\" y=\"-200.8\" font-family=\"Helvetica,sans-Serif\" font-size=\"14.00\" fill=\"#000000\">value = [2, 0, 0, 0, 17, 5829]</text>\n</g>\n<!-- 3&#45;&gt;4 -->\n<g id=\"edge4\" class=\"edge\">\n<title>3&#45;&gt;4</title>\n<path fill=\"none\" stroke=\"#000000\" d=\"M746.3486,-296.9465C721.055,-286.711 693.1485,-275.4181 667.273,-264.9471\"/>\n<polygon fill=\"#000000\" stroke=\"#000000\" points=\"668.4232,-261.6368 657.8405,-261.13 665.7973,-268.1257 668.4232,-261.6368\"/>\n</g>\n<!-- 11 -->\n<g id=\"node12\" class=\"node\">\n<title>11</title>\n<polygon fill=\"#8139e5\" stroke=\"#000000\" points=\"915.5,-253.5 745.5,-253.5 745.5,-200.5 915.5,-200.5 915.5,-253.5\"/>\n<text text-anchor=\"middle\" x=\"830.5\" y=\"-238.3\" font-family=\"Helvetica,sans-Serif\" font-size=\"14.00\" fill=\"#000000\">gini = 0.0</text>\n<text text-anchor=\"middle\" x=\"830.5\" y=\"-223.3\" font-family=\"Helvetica,sans-Serif\" font-size=\"14.00\" fill=\"#000000\">samples = 10</text>\n<text text-anchor=\"middle\" x=\"830.5\" y=\"-208.3\" font-family=\"Helvetica,sans-Serif\" font-size=\"14.00\" fill=\"#000000\">value = [0, 0, 0, 0, 10, 0]</text>\n</g>\n<!-- 3&#45;&gt;11 -->\n<g id=\"edge11\" class=\"edge\">\n<title>3&#45;&gt;11</title>\n<path fill=\"none\" stroke=\"#000000\" d=\"M830.5,-296.9465C830.5,-286.2621 830.5,-274.4254 830.5,-263.5742\"/>\n<polygon fill=\"#000000\" stroke=\"#000000\" points=\"834.0001,-263.5421 830.5,-253.5422 827.0001,-263.5422 834.0001,-263.5421\"/>\n</g>\n<!-- 5 -->\n<g id=\"node6\" class=\"node\">\n<title>5</title>\n<polygon fill=\"#e53a9d\" stroke=\"#000000\" points=\"392,-157 197,-157 197,-89 392,-89 392,-157\"/>\n<text text-anchor=\"middle\" x=\"294.5\" y=\"-141.8\" font-family=\"Helvetica,sans-Serif\" font-size=\"14.00\" fill=\"#000000\">Band_24 &lt;= 0.195</text>\n<text text-anchor=\"middle\" x=\"294.5\" y=\"-126.8\" font-family=\"Helvetica,sans-Serif\" font-size=\"14.00\" fill=\"#000000\">gini = 0.006</text>\n<text text-anchor=\"middle\" x=\"294.5\" y=\"-111.8\" font-family=\"Helvetica,sans-Serif\" font-size=\"14.00\" fill=\"#000000\">samples = 5845</text>\n<text text-anchor=\"middle\" x=\"294.5\" y=\"-96.8\" font-family=\"Helvetica,sans-Serif\" font-size=\"14.00\" fill=\"#000000\">value = [2, 0, 0, 0, 15, 5828]</text>\n</g>\n<!-- 4&#45;&gt;5 -->\n<g id=\"edge5\" class=\"edge\">\n<title>4&#45;&gt;5</title>\n<path fill=\"none\" stroke=\"#000000\" d=\"M482.145,-192.9465C454.4453,-182.6212 423.8591,-171.2199 395.5616,-160.6717\"/>\n<polygon fill=\"#000000\" stroke=\"#000000\" points=\"396.653,-157.3433 386.0603,-157.13 394.2079,-163.9024 396.653,-157.3433\"/>\n</g>\n<!-- 8 -->\n<g id=\"node9\" class=\"node\">\n<title>8</title>\n<polygon fill=\"#c09cf2\" stroke=\"#000000\" points=\"654.5,-157 492.5,-157 492.5,-89 654.5,-89 654.5,-157\"/>\n<text text-anchor=\"middle\" x=\"573.5\" y=\"-141.8\" font-family=\"Helvetica,sans-Serif\" font-size=\"14.00\" fill=\"#000000\">Band_14 &lt;= &#45;0.193</text>\n<text text-anchor=\"middle\" x=\"573.5\" y=\"-126.8\" font-family=\"Helvetica,sans-Serif\" font-size=\"14.00\" fill=\"#000000\">gini = 0.444</text>\n<text text-anchor=\"middle\" x=\"573.5\" y=\"-111.8\" font-family=\"Helvetica,sans-Serif\" font-size=\"14.00\" fill=\"#000000\">samples = 3</text>\n<text text-anchor=\"middle\" x=\"573.5\" y=\"-96.8\" font-family=\"Helvetica,sans-Serif\" font-size=\"14.00\" fill=\"#000000\">value = [0, 0, 0, 0, 2, 1]</text>\n</g>\n<!-- 4&#45;&gt;8 -->\n<g id=\"edge8\" class=\"edge\">\n<title>4&#45;&gt;8</title>\n<path fill=\"none\" stroke=\"#000000\" d=\"M573.5,-192.9465C573.5,-184.776 573.5,-175.9318 573.5,-167.3697\"/>\n<polygon fill=\"#000000\" stroke=\"#000000\" points=\"577.0001,-167.13 573.5,-157.13 570.0001,-167.13 577.0001,-167.13\"/>\n</g>\n<!-- 6 -->\n<g id=\"node7\" class=\"node\">\n<title>6</title>\n<polygon fill=\"#e53a9d\" stroke=\"#000000\" points=\"195,-53 0,-53 0,0 195,0 195,-53\"/>\n<text text-anchor=\"middle\" x=\"97.5\" y=\"-37.8\" font-family=\"Helvetica,sans-Serif\" font-size=\"14.00\" fill=\"#000000\">gini = 0.005</text>\n<text text-anchor=\"middle\" x=\"97.5\" y=\"-22.8\" font-family=\"Helvetica,sans-Serif\" font-size=\"14.00\" fill=\"#000000\">samples = 5844</text>\n<text text-anchor=\"middle\" x=\"97.5\" y=\"-7.8\" font-family=\"Helvetica,sans-Serif\" font-size=\"14.00\" fill=\"#000000\">value = [1, 0, 0, 0, 15, 5828]</text>\n</g>\n<!-- 5&#45;&gt;6 -->\n<g id=\"edge6\" class=\"edge\">\n<title>5&#45;&gt;6</title>\n<path fill=\"none\" stroke=\"#000000\" d=\"M225.0452,-88.9777C204.1993,-78.7664 181.4474,-67.6214 161.0065,-57.6085\"/>\n<polygon fill=\"#000000\" stroke=\"#000000\" points=\"162.3126,-54.351 151.7924,-53.095 159.2332,-60.6373 162.3126,-54.351\"/>\n</g>\n<!-- 7 -->\n<g id=\"node8\" class=\"node\">\n<title>7</title>\n<polygon fill=\"#e58139\" stroke=\"#000000\" points=\"375.5,-53 213.5,-53 213.5,0 375.5,0 375.5,-53\"/>\n<text text-anchor=\"middle\" x=\"294.5\" y=\"-37.8\" font-family=\"Helvetica,sans-Serif\" font-size=\"14.00\" fill=\"#000000\">gini = 0.0</text>\n<text text-anchor=\"middle\" x=\"294.5\" y=\"-22.8\" font-family=\"Helvetica,sans-Serif\" font-size=\"14.00\" fill=\"#000000\">samples = 1</text>\n<text text-anchor=\"middle\" x=\"294.5\" y=\"-7.8\" font-family=\"Helvetica,sans-Serif\" font-size=\"14.00\" fill=\"#000000\">value = [1, 0, 0, 0, 0, 0]</text>\n</g>\n<!-- 5&#45;&gt;7 -->\n<g id=\"edge7\" class=\"edge\">\n<title>5&#45;&gt;7</title>\n<path fill=\"none\" stroke=\"#000000\" d=\"M294.5,-88.9777C294.5,-80.7364 294.5,-71.887 294.5,-63.5153\"/>\n<polygon fill=\"#000000\" stroke=\"#000000\" points=\"298.0001,-63.2484 294.5,-53.2485 291.0001,-63.2485 298.0001,-63.2484\"/>\n</g>\n<!-- 9 -->\n<g id=\"node10\" class=\"node\">\n<title>9</title>\n<polygon fill=\"#8139e5\" stroke=\"#000000\" points=\"555.5,-53 393.5,-53 393.5,0 555.5,0 555.5,-53\"/>\n<text text-anchor=\"middle\" x=\"474.5\" y=\"-37.8\" font-family=\"Helvetica,sans-Serif\" font-size=\"14.00\" fill=\"#000000\">gini = 0.0</text>\n<text text-anchor=\"middle\" x=\"474.5\" y=\"-22.8\" font-family=\"Helvetica,sans-Serif\" font-size=\"14.00\" fill=\"#000000\">samples = 2</text>\n<text text-anchor=\"middle\" x=\"474.5\" y=\"-7.8\" font-family=\"Helvetica,sans-Serif\" font-size=\"14.00\" fill=\"#000000\">value = [0, 0, 0, 0, 2, 0]</text>\n</g>\n<!-- 8&#45;&gt;9 -->\n<g id=\"edge9\" class=\"edge\">\n<title>8&#45;&gt;9</title>\n<path fill=\"none\" stroke=\"#000000\" d=\"M538.5963,-88.9777C529.1082,-79.7292 518.8343,-69.7147 509.3491,-60.4691\"/>\n<polygon fill=\"#000000\" stroke=\"#000000\" points=\"511.5454,-57.7223 501.9414,-53.2485 506.6593,-62.7349 511.5454,-57.7223\"/>\n</g>\n<!-- 10 -->\n<g id=\"node11\" class=\"node\">\n<title>10</title>\n<polygon fill=\"#e5399d\" stroke=\"#000000\" points=\"735.5,-53 573.5,-53 573.5,0 735.5,0 735.5,-53\"/>\n<text text-anchor=\"middle\" x=\"654.5\" y=\"-37.8\" font-family=\"Helvetica,sans-Serif\" font-size=\"14.00\" fill=\"#000000\">gini = 0.0</text>\n<text text-anchor=\"middle\" x=\"654.5\" y=\"-22.8\" font-family=\"Helvetica,sans-Serif\" font-size=\"14.00\" fill=\"#000000\">samples = 1</text>\n<text text-anchor=\"middle\" x=\"654.5\" y=\"-7.8\" font-family=\"Helvetica,sans-Serif\" font-size=\"14.00\" fill=\"#000000\">value = [0, 0, 0, 0, 0, 1]</text>\n</g>\n<!-- 8&#45;&gt;10 -->\n<g id=\"edge10\" class=\"edge\">\n<title>8&#45;&gt;10</title>\n<path fill=\"none\" stroke=\"#000000\" d=\"M602.0576,-88.9777C609.6669,-79.9123 617.8939,-70.111 625.5253,-61.0192\"/>\n<polygon fill=\"#000000\" stroke=\"#000000\" points=\"628.2995,-63.1581 632.0479,-53.2485 622.938,-58.6577 628.2995,-63.1581\"/>\n</g>\n<!-- 13 -->\n<g id=\"node14\" class=\"node\">\n<title>13</title>\n<polygon fill=\"#833ce5\" stroke=\"#000000\" points=\"1288,-261 1093,-261 1093,-193 1288,-193 1288,-261\"/>\n<text text-anchor=\"middle\" x=\"1190.5\" y=\"-245.8\" font-family=\"Helvetica,sans-Serif\" font-size=\"14.00\" fill=\"#000000\">Band_34 &lt;= &#45;0.026</text>\n<text text-anchor=\"middle\" x=\"1190.5\" y=\"-230.8\" font-family=\"Helvetica,sans-Serif\" font-size=\"14.00\" fill=\"#000000\">gini = 0.028</text>\n<text text-anchor=\"middle\" x=\"1190.5\" y=\"-215.8\" font-family=\"Helvetica,sans-Serif\" font-size=\"14.00\" fill=\"#000000\">samples = 1572</text>\n<text text-anchor=\"middle\" x=\"1190.5\" y=\"-200.8\" font-family=\"Helvetica,sans-Serif\" font-size=\"14.00\" fill=\"#000000\">value = [6, 0, 0, 0, 1550, 16]</text>\n</g>\n<!-- 12&#45;&gt;13 -->\n<g id=\"edge13\" class=\"edge\">\n<title>12&#45;&gt;13</title>\n<path fill=\"none\" stroke=\"#000000\" d=\"M1190.5,-296.9465C1190.5,-288.776 1190.5,-279.9318 1190.5,-271.3697\"/>\n<polygon fill=\"#000000\" stroke=\"#000000\" points=\"1194.0001,-271.13 1190.5,-261.13 1187.0001,-271.13 1194.0001,-271.13\"/>\n</g>\n<!-- 20 -->\n<g id=\"node21\" class=\"node\">\n<title>20</title>\n<polygon fill=\"#f1ba92\" stroke=\"#000000\" points=\"1714.5,-261 1494.5,-261 1494.5,-193 1714.5,-193 1714.5,-261\"/>\n<text text-anchor=\"middle\" x=\"1604.5\" y=\"-245.8\" font-family=\"Helvetica,sans-Serif\" font-size=\"14.00\" fill=\"#000000\">Band_15 &lt;= 2.517</text>\n<text text-anchor=\"middle\" x=\"1604.5\" y=\"-230.8\" font-family=\"Helvetica,sans-Serif\" font-size=\"14.00\" fill=\"#000000\">gini = 0.491</text>\n<text text-anchor=\"middle\" x=\"1604.5\" y=\"-215.8\" font-family=\"Helvetica,sans-Serif\" font-size=\"14.00\" fill=\"#000000\">samples = 2108</text>\n<text text-anchor=\"middle\" x=\"1604.5\" y=\"-200.8\" font-family=\"Helvetica,sans-Serif\" font-size=\"14.00\" fill=\"#000000\">value = [1395, 183, 0, 530, 0, 0]</text>\n</g>\n<!-- 12&#45;&gt;20 -->\n<g id=\"edge20\" class=\"edge\">\n<title>12&#45;&gt;20</title>\n<path fill=\"none\" stroke=\"#000000\" d=\"M1317.2451,-299.1607C1370.4017,-285.8073 1431.9126,-270.3553 1484.344,-257.1841\"/>\n<polygon fill=\"#000000\" stroke=\"#000000\" points=\"1485.5177,-260.4981 1494.3637,-254.6671 1483.8122,-253.709 1485.5177,-260.4981\"/>\n</g>\n<!-- 14 -->\n<g id=\"node15\" class=\"node\">\n<title>14</title>\n<polygon fill=\"#c8a9f4\" stroke=\"#000000\" points=\"1107,-157 928,-157 928,-89 1107,-89 1107,-157\"/>\n<text text-anchor=\"middle\" x=\"1017.5\" y=\"-141.8\" font-family=\"Helvetica,sans-Serif\" font-size=\"14.00\" fill=\"#000000\">Band_20 &lt;= &#45;0.109</text>\n<text text-anchor=\"middle\" x=\"1017.5\" y=\"-126.8\" font-family=\"Helvetica,sans-Serif\" font-size=\"14.00\" fill=\"#000000\">gini = 0.481</text>\n<text text-anchor=\"middle\" x=\"1017.5\" y=\"-111.8\" font-family=\"Helvetica,sans-Serif\" font-size=\"14.00\" fill=\"#000000\">samples = 46</text>\n<text text-anchor=\"middle\" x=\"1017.5\" y=\"-96.8\" font-family=\"Helvetica,sans-Serif\" font-size=\"14.00\" fill=\"#000000\">value = [1, 0, 0, 0, 29, 16]</text>\n</g>\n<!-- 13&#45;&gt;14 -->\n<g id=\"edge14\" class=\"edge\">\n<title>13&#45;&gt;14</title>\n<path fill=\"none\" stroke=\"#000000\" d=\"M1133.8533,-192.9465C1117.5737,-183.1599 1099.686,-172.4066 1082.923,-162.3294\"/>\n<polygon fill=\"#000000\" stroke=\"#000000\" points=\"1084.6478,-159.2826 1074.2739,-157.13 1081.0412,-165.282 1084.6478,-159.2826\"/>\n</g>\n<!-- 17 -->\n<g id=\"node18\" class=\"node\">\n<title>17</title>\n<polygon fill=\"#813ae5\" stroke=\"#000000\" points=\"1312,-157 1125,-157 1125,-89 1312,-89 1312,-157\"/>\n<text text-anchor=\"middle\" x=\"1218.5\" y=\"-141.8\" font-family=\"Helvetica,sans-Serif\" font-size=\"14.00\" fill=\"#000000\">Band_57 &lt;= 0.125</text>\n<text text-anchor=\"middle\" x=\"1218.5\" y=\"-126.8\" font-family=\"Helvetica,sans-Serif\" font-size=\"14.00\" fill=\"#000000\">gini = 0.007</text>\n<text text-anchor=\"middle\" x=\"1218.5\" y=\"-111.8\" font-family=\"Helvetica,sans-Serif\" font-size=\"14.00\" fill=\"#000000\">samples = 1526</text>\n<text text-anchor=\"middle\" x=\"1218.5\" y=\"-96.8\" font-family=\"Helvetica,sans-Serif\" font-size=\"14.00\" fill=\"#000000\">value = [5, 0, 0, 0, 1521, 0]</text>\n</g>\n<!-- 13&#45;&gt;17 -->\n<g id=\"edge17\" class=\"edge\">\n<title>13&#45;&gt;17</title>\n<path fill=\"none\" stroke=\"#000000\" d=\"M1199.6682,-192.9465C1201.9163,-184.5965 1204.3539,-175.5427 1206.7062,-166.8056\"/>\n<polygon fill=\"#000000\" stroke=\"#000000\" points=\"1210.091,-167.6961 1209.3112,-157.13 1203.3317,-165.8762 1210.091,-167.6961\"/>\n</g>\n<!-- 15 -->\n<g id=\"node16\" class=\"node\">\n<title>15</title>\n<polygon fill=\"#8139e5\" stroke=\"#000000\" points=\"923.5,-53 753.5,-53 753.5,0 923.5,0 923.5,-53\"/>\n<text text-anchor=\"middle\" x=\"838.5\" y=\"-37.8\" font-family=\"Helvetica,sans-Serif\" font-size=\"14.00\" fill=\"#000000\">gini = 0.0</text>\n<text text-anchor=\"middle\" x=\"838.5\" y=\"-22.8\" font-family=\"Helvetica,sans-Serif\" font-size=\"14.00\" fill=\"#000000\">samples = 29</text>\n<text text-anchor=\"middle\" x=\"838.5\" y=\"-7.8\" font-family=\"Helvetica,sans-Serif\" font-size=\"14.00\" fill=\"#000000\">value = [0, 0, 0, 0, 29, 0]</text>\n</g>\n<!-- 14&#45;&gt;15 -->\n<g id=\"edge15\" class=\"edge\">\n<title>14&#45;&gt;15</title>\n<path fill=\"none\" stroke=\"#000000\" d=\"M954.3913,-88.9777C935.6208,-78.8584 915.1494,-67.8222 896.7063,-57.8794\"/>\n<polygon fill=\"#000000\" stroke=\"#000000\" points=\"898.295,-54.7597 887.8317,-53.095 894.9732,-60.9213 898.295,-54.7597\"/>\n</g>\n<!-- 16 -->\n<g id=\"node17\" class=\"node\">\n<title>16</title>\n<polygon fill=\"#e745a3\" stroke=\"#000000\" points=\"1111.5,-53 941.5,-53 941.5,0 1111.5,0 1111.5,-53\"/>\n<text text-anchor=\"middle\" x=\"1026.5\" y=\"-37.8\" font-family=\"Helvetica,sans-Serif\" font-size=\"14.00\" fill=\"#000000\">gini = 0.111</text>\n<text text-anchor=\"middle\" x=\"1026.5\" y=\"-22.8\" font-family=\"Helvetica,sans-Serif\" font-size=\"14.00\" fill=\"#000000\">samples = 17</text>\n<text text-anchor=\"middle\" x=\"1026.5\" y=\"-7.8\" font-family=\"Helvetica,sans-Serif\" font-size=\"14.00\" fill=\"#000000\">value = [1, 0, 0, 0, 0, 16]</text>\n</g>\n<!-- 14&#45;&gt;16 -->\n<g id=\"edge16\" class=\"edge\">\n<title>14&#45;&gt;16</title>\n<path fill=\"none\" stroke=\"#000000\" d=\"M1020.6731,-88.9777C1021.4502,-80.6449 1022.2854,-71.6903 1023.0738,-63.2364\"/>\n<polygon fill=\"#000000\" stroke=\"#000000\" points=\"1026.5615,-63.5303 1024.0053,-53.2485 1019.5917,-62.8802 1026.5615,-63.5303\"/>\n</g>\n<!-- 18 -->\n<g id=\"node19\" class=\"node\">\n<title>18</title>\n<polygon fill=\"#e58139\" stroke=\"#000000\" points=\"1291.5,-53 1129.5,-53 1129.5,0 1291.5,0 1291.5,-53\"/>\n<text text-anchor=\"middle\" x=\"1210.5\" y=\"-37.8\" font-family=\"Helvetica,sans-Serif\" font-size=\"14.00\" fill=\"#000000\">gini = 0.0</text>\n<text text-anchor=\"middle\" x=\"1210.5\" y=\"-22.8\" font-family=\"Helvetica,sans-Serif\" font-size=\"14.00\" fill=\"#000000\">samples = 4</text>\n<text text-anchor=\"middle\" x=\"1210.5\" y=\"-7.8\" font-family=\"Helvetica,sans-Serif\" font-size=\"14.00\" fill=\"#000000\">value = [4, 0, 0, 0, 0, 0]</text>\n</g>\n<!-- 17&#45;&gt;18 -->\n<g id=\"edge18\" class=\"edge\">\n<title>17&#45;&gt;18</title>\n<path fill=\"none\" stroke=\"#000000\" d=\"M1215.6795,-88.9777C1214.9887,-80.6449 1214.2463,-71.6903 1213.5455,-63.2364\"/>\n<polygon fill=\"#000000\" stroke=\"#000000\" points=\"1217.0318,-62.9251 1212.7175,-53.2485 1210.0557,-63.5035 1217.0318,-62.9251\"/>\n</g>\n<!-- 19 -->\n<g id=\"node20\" class=\"node\">\n<title>19</title>\n<polygon fill=\"#8139e5\" stroke=\"#000000\" points=\"1497,-53 1310,-53 1310,0 1497,0 1497,-53\"/>\n<text text-anchor=\"middle\" x=\"1403.5\" y=\"-37.8\" font-family=\"Helvetica,sans-Serif\" font-size=\"14.00\" fill=\"#000000\">gini = 0.001</text>\n<text text-anchor=\"middle\" x=\"1403.5\" y=\"-22.8\" font-family=\"Helvetica,sans-Serif\" font-size=\"14.00\" fill=\"#000000\">samples = 1522</text>\n<text text-anchor=\"middle\" x=\"1403.5\" y=\"-7.8\" font-family=\"Helvetica,sans-Serif\" font-size=\"14.00\" fill=\"#000000\">value = [1, 0, 0, 0, 1521, 0]</text>\n</g>\n<!-- 17&#45;&gt;19 -->\n<g id=\"edge19\" class=\"edge\">\n<title>17&#45;&gt;19</title>\n<path fill=\"none\" stroke=\"#000000\" d=\"M1283.7241,-88.9777C1303.212,-78.8124 1324.4737,-67.7218 1343.6024,-57.7439\"/>\n<polygon fill=\"#000000\" stroke=\"#000000\" points=\"1345.2671,-60.8231 1352.5147,-53.095 1342.0297,-54.6167 1345.2671,-60.8231\"/>\n</g>\n<!-- 21 -->\n<g id=\"node22\" class=\"node\">\n<title>21</title>\n<polygon fill=\"#e89253\" stroke=\"#000000\" points=\"1706,-157 1503,-157 1503,-89 1706,-89 1706,-157\"/>\n<text text-anchor=\"middle\" x=\"1604.5\" y=\"-141.8\" font-family=\"Helvetica,sans-Serif\" font-size=\"14.00\" fill=\"#000000\">Band_18 &lt;= 0.725</text>\n<text text-anchor=\"middle\" x=\"1604.5\" y=\"-126.8\" font-family=\"Helvetica,sans-Serif\" font-size=\"14.00\" fill=\"#000000\">gini = 0.205</text>\n<text text-anchor=\"middle\" x=\"1604.5\" y=\"-111.8\" font-family=\"Helvetica,sans-Serif\" font-size=\"14.00\" fill=\"#000000\">samples = 1578</text>\n<text text-anchor=\"middle\" x=\"1604.5\" y=\"-96.8\" font-family=\"Helvetica,sans-Serif\" font-size=\"14.00\" fill=\"#000000\">value = [1395, 183, 0, 0, 0, 0]</text>\n</g>\n<!-- 20&#45;&gt;21 -->\n<g id=\"edge21\" class=\"edge\">\n<title>20&#45;&gt;21</title>\n<path fill=\"none\" stroke=\"#000000\" d=\"M1604.5,-192.9465C1604.5,-184.776 1604.5,-175.9318 1604.5,-167.3697\"/>\n<polygon fill=\"#000000\" stroke=\"#000000\" points=\"1608.0001,-167.13 1604.5,-157.13 1601.0001,-167.13 1608.0001,-167.13\"/>\n</g>\n<!-- 24 -->\n<g id=\"node25\" class=\"node\">\n<title>24</title>\n<polygon fill=\"#399de5\" stroke=\"#000000\" points=\"1903,-149.5 1724,-149.5 1724,-96.5 1903,-96.5 1903,-149.5\"/>\n<text text-anchor=\"middle\" x=\"1813.5\" y=\"-134.3\" font-family=\"Helvetica,sans-Serif\" font-size=\"14.00\" fill=\"#000000\">gini = 0.0</text>\n<text text-anchor=\"middle\" x=\"1813.5\" y=\"-119.3\" font-family=\"Helvetica,sans-Serif\" font-size=\"14.00\" fill=\"#000000\">samples = 530</text>\n<text text-anchor=\"middle\" x=\"1813.5\" y=\"-104.3\" font-family=\"Helvetica,sans-Serif\" font-size=\"14.00\" fill=\"#000000\">value = [0, 0, 0, 530, 0, 0]</text>\n</g>\n<!-- 20&#45;&gt;24 -->\n<g id=\"edge24\" class=\"edge\">\n<title>20&#45;&gt;24</title>\n<path fill=\"none\" stroke=\"#000000\" d=\"M1672.9344,-192.9465C1698.0585,-180.4446 1726.3526,-166.3652 1750.9351,-154.1328\"/>\n<polygon fill=\"#000000\" stroke=\"#000000\" points=\"1752.7669,-157.1307 1760.1605,-149.5422 1749.6484,-150.8637 1752.7669,-157.1307\"/>\n</g>\n<!-- 22 -->\n<g id=\"node23\" class=\"node\">\n<title>22</title>\n<polygon fill=\"#9ee53b\" stroke=\"#000000\" points=\"1694,-53 1515,-53 1515,0 1694,0 1694,-53\"/>\n<text text-anchor=\"middle\" x=\"1604.5\" y=\"-37.8\" font-family=\"Helvetica,sans-Serif\" font-size=\"14.00\" fill=\"#000000\">gini = 0.021</text>\n<text text-anchor=\"middle\" x=\"1604.5\" y=\"-22.8\" font-family=\"Helvetica,sans-Serif\" font-size=\"14.00\" fill=\"#000000\">samples = 185</text>\n<text text-anchor=\"middle\" x=\"1604.5\" y=\"-7.8\" font-family=\"Helvetica,sans-Serif\" font-size=\"14.00\" fill=\"#000000\">value = [2, 183, 0, 0, 0, 0]</text>\n</g>\n<!-- 21&#45;&gt;22 -->\n<g id=\"edge22\" class=\"edge\">\n<title>21&#45;&gt;22</title>\n<path fill=\"none\" stroke=\"#000000\" d=\"M1604.5,-88.9777C1604.5,-80.7364 1604.5,-71.887 1604.5,-63.5153\"/>\n<polygon fill=\"#000000\" stroke=\"#000000\" points=\"1608.0001,-63.2484 1604.5,-53.2485 1601.0001,-63.2485 1608.0001,-63.2484\"/>\n</g>\n<!-- 23 -->\n<g id=\"node24\" class=\"node\">\n<title>23</title>\n<polygon fill=\"#e58139\" stroke=\"#000000\" points=\"1899,-53 1712,-53 1712,0 1899,0 1899,-53\"/>\n<text text-anchor=\"middle\" x=\"1805.5\" y=\"-37.8\" font-family=\"Helvetica,sans-Serif\" font-size=\"14.00\" fill=\"#000000\">gini = 0.0</text>\n<text text-anchor=\"middle\" x=\"1805.5\" y=\"-22.8\" font-family=\"Helvetica,sans-Serif\" font-size=\"14.00\" fill=\"#000000\">samples = 1393</text>\n<text text-anchor=\"middle\" x=\"1805.5\" y=\"-7.8\" font-family=\"Helvetica,sans-Serif\" font-size=\"14.00\" fill=\"#000000\">value = [1393, 0, 0, 0, 0, 0]</text>\n</g>\n<!-- 21&#45;&gt;23 -->\n<g id=\"edge23\" class=\"edge\">\n<title>21&#45;&gt;23</title>\n<path fill=\"none\" stroke=\"#000000\" d=\"M1675.3651,-88.9777C1696.73,-78.7204 1720.0573,-67.521 1740.9858,-57.4732\"/>\n<polygon fill=\"#000000\" stroke=\"#000000\" points=\"1742.6051,-60.5783 1750.1052,-53.095 1739.5755,-54.2679 1742.6051,-60.5783\"/>\n</g>\n</g>\n</svg>\n"
          },
          "metadata": {},
          "execution_count": 22
        }
      ]
    },
    {
      "cell_type": "markdown",
      "source": [
        "For the Decision Tree model, the model's misclassification of class 1 and 5 reduced further when compared to KNN and Logistics Regression. Also, the feature_importances_ attribute of the decision tree shows that band 49 has the most feature.This is because it was used to separate the data at the top of the tree, and that also resulted in a reduction in the gini impurity."
      ],
      "metadata": {
        "id": "zdepY7dtmuqx"
      }
    },
    {
      "cell_type": "code",
      "source": [
        "rand_forest = RandomForestClassifier(n_estimators=100, n_jobs=-1,  random_state=42) # 100 decision trees\n",
        "\n",
        "y_train_pred, y_test_pred, y_train_proba, y_test_proba = train_n_test(rand_forest)\n",
        "\n",
        "evaluate_result(y_train=y_train, y_train_pred=y_train_pred, y_train_proba=y_train_proba, y_test=y_test, y_test_pred=y_test_pred, y_test_proba=y_test_proba)"
      ],
      "metadata": {
        "colab": {
          "base_uri": "https://localhost:8080/",
          "height": 1000
        },
        "id": "ZvyqqTU6MuzE",
        "outputId": "d1d85614-e31e-4745-934e-02aac8bce911"
      },
      "execution_count": null,
      "outputs": [
        {
          "output_type": "stream",
          "name": "stdout",
          "text": [
            "accuracy_score for Train is: 1.0\n",
            "accuracy_score for Test is: 0.9987947658402204\n",
            "----------------------------------------\n",
            "cohen_kappa_score for Train is: 1.0\n",
            "cohen_kappa_score for Test is: 0.9982626096162523\n",
            "----------------------------------------\n",
            "Train:\n",
            "              precision    recall  f1-score   support\n",
            "\n",
            "           1       1.00      1.00      1.00      1403\n",
            "           2       1.00      1.00      1.00       183\n",
            "           3       1.00      1.00      1.00      4011\n",
            "           4       1.00      1.00      1.00       530\n",
            "           5       1.00      1.00      1.00      1577\n",
            "           6       1.00      1.00      1.00      5845\n",
            "\n",
            "    accuracy                           1.00     13549\n",
            "   macro avg       1.00      1.00      1.00     13549\n",
            "weighted avg       1.00      1.00      1.00     13549\n",
            "\n",
            "Test:\n",
            "              precision    recall  f1-score   support\n",
            "\n",
            "           1       1.00      1.00      1.00       560\n",
            "           2       1.00      1.00      1.00        89\n",
            "           3       1.00      1.00      1.00      1762\n",
            "           4       1.00      1.00      1.00       213\n",
            "           5       1.00      0.99      1.00       649\n",
            "           6       1.00      1.00      1.00      2535\n",
            "\n",
            "    accuracy                           1.00      5808\n",
            "   macro avg       1.00      1.00      1.00      5808\n",
            "weighted avg       1.00      1.00      1.00      5808\n",
            "\n",
            "----------------------------------------\n",
            "Train:\n"
          ]
        },
        {
          "output_type": "display_data",
          "data": {
            "text/plain": [
              "<Figure size 432x288 with 2 Axes>"
            ],
            "image/png": "[encoded data removed]"
          },
          "metadata": {
            "needs_background": "light"
          }
        },
        {
          "output_type": "stream",
          "name": "stdout",
          "text": [
            "Test:\n"
          ]
        },
        {
          "output_type": "display_data",
          "data": {
            "text/plain": [
              "<Figure size 432x288 with 2 Axes>"
            ],
            "image/png": "[encoded data removed]"
          },
          "metadata": {
            "needs_background": "light"
          }
        },
        {
          "output_type": "stream",
          "name": "stdout",
          "text": [
            "----------------------------------------\n"
          ]
        }
      ]
    },
    {
      "cell_type": "markdown",
      "source": [
        "Random Forest was able to perfectly learn the classification of the classes in the training set without any single misclassificaion. A total of 7 misclassification were observed which are 1 misclassification of class 1 and 6 misclassification of class 5. Random Forest seems to be robust in classifiying the data with less overfitting because it used a forest of 100 decision trees to learn the classification of the image into its classes."
      ],
      "metadata": {
        "id": "cQDUYg6Gp0mp"
      }
    },
    {
      "cell_type": "code",
      "source": [
        "gnb = GaussianNB()\n",
        "\n",
        "y_train_pred, y_test_pred, y_train_proba, y_test_proba = train_n_test(gnb)\n",
        "\n",
        "evaluate_result(y_train=y_train, y_train_pred=y_train_pred, y_train_proba=y_train_proba, y_test=y_test, y_test_pred=y_test_pred, y_test_proba=y_test_proba)"
      ],
      "metadata": {
        "colab": {
          "base_uri": "https://localhost:8080/",
          "height": 1000
        },
        "id": "8z9dlLF5M581",
        "outputId": "2dbbd566-b012-4da3-db8d-21be9e259c4f"
      },
      "execution_count": null,
      "outputs": [
        {
          "output_type": "stream",
          "name": "stdout",
          "text": [
            "accuracy_score for Train is: 0.9417669200679016\n",
            "accuracy_score for Test is: 0.9447314049586777\n",
            "----------------------------------------\n",
            "cohen_kappa_score for Train is: 0.9185731857449739\n",
            "cohen_kappa_score for Test is: 0.9219690357741113\n",
            "----------------------------------------\n",
            "Train:\n",
            "              precision    recall  f1-score   support\n",
            "\n",
            "           1       0.99      0.95      0.97      1403\n",
            "           2       0.67      1.00      0.80       183\n",
            "           3       1.00      1.00      1.00      4011\n",
            "           4       1.00      0.98      0.99       530\n",
            "           5       0.70      0.96      0.81      1577\n",
            "           6       0.99      0.89      0.94      5845\n",
            "\n",
            "    accuracy                           0.94     13549\n",
            "   macro avg       0.89      0.96      0.92     13549\n",
            "weighted avg       0.96      0.94      0.95     13549\n",
            "\n",
            "Test:\n",
            "              precision    recall  f1-score   support\n",
            "\n",
            "           1       0.99      0.94      0.96       560\n",
            "           2       0.68      1.00      0.81        89\n",
            "           3       1.00      1.00      1.00      1762\n",
            "           4       1.00      0.98      0.99       213\n",
            "           5       0.71      0.97      0.82       649\n",
            "           6       0.99      0.90      0.94      2535\n",
            "\n",
            "    accuracy                           0.94      5808\n",
            "   macro avg       0.90      0.96      0.92      5808\n",
            "weighted avg       0.96      0.94      0.95      5808\n",
            "\n",
            "----------------------------------------\n",
            "Train:\n"
          ]
        },
        {
          "output_type": "display_data",
          "data": {
            "text/plain": [
              "<Figure size 432x288 with 2 Axes>"
            ],
            "image/png": "[encoded data removed]"
          },
          "metadata": {
            "needs_background": "light"
          }
        },
        {
          "output_type": "stream",
          "name": "stdout",
          "text": [
            "Test:\n"
          ]
        },
        {
          "output_type": "display_data",
          "data": {
            "text/plain": [
              "<Figure size 432x288 with 2 Axes>"
            ],
            "image/png": "[encoded data removed]"
          },
          "metadata": {
            "needs_background": "light"
          }
        },
        {
          "output_type": "stream",
          "name": "stdout",
          "text": [
            "----------------------------------------\n"
          ]
        }
      ]
    },
    {
      "cell_type": "markdown",
      "source": [
        "Naive based model performed poorly relative to the other models. This could be because of its simplicity in using posterior probabilities in modeling the data. Most of the misclassification were due to misclassifying class 6 (wetland) as 5 (grass). Relative to the other models used, Naive Bayes model has a higher bias."
      ],
      "metadata": {
        "id": "e5yzu7VPrwlY"
      }
    },
    {
      "cell_type": "code",
      "source": [
        "linear_svc = SVC(kernel='linear', C=1.0, probability=True) \n",
        "\n",
        "y_train_pred, y_test_pred, y_train_proba, y_test_proba = train_n_test(linear_svc)\n",
        "\n",
        "evaluate_result(y_train=y_train, y_train_pred=y_train_pred, y_train_proba=y_train_proba, y_test=y_test, y_test_pred=y_test_pred, y_test_proba=y_test_proba)"
      ],
      "metadata": {
        "colab": {
          "base_uri": "https://localhost:8080/",
          "height": 1000
        },
        "id": "1KNu4ALaM5xI",
        "outputId": "3a4248c9-4e22-4bf9-be96-a5f82e34d33b"
      },
      "execution_count": null,
      "outputs": [
        {
          "output_type": "stream",
          "name": "stdout",
          "text": [
            "accuracy_score for Train is: 0.998745294855709\n",
            "accuracy_score for Test is: 0.9984504132231405\n",
            "----------------------------------------\n",
            "cohen_kappa_score for Train is: 0.9982072573988838\n",
            "cohen_kappa_score for Test is: 0.9977658607347203\n",
            "----------------------------------------\n",
            "Train:\n",
            "              precision    recall  f1-score   support\n",
            "\n",
            "           1       1.00      1.00      1.00      1403\n",
            "           2       1.00      1.00      1.00       183\n",
            "           3       1.00      1.00      1.00      4011\n",
            "           4       1.00      1.00      1.00       530\n",
            "           5       1.00      0.99      0.99      1577\n",
            "           6       1.00      1.00      1.00      5845\n",
            "\n",
            "    accuracy                           1.00     13549\n",
            "   macro avg       1.00      1.00      1.00     13549\n",
            "weighted avg       1.00      1.00      1.00     13549\n",
            "\n",
            "Test:\n",
            "              precision    recall  f1-score   support\n",
            "\n",
            "           1       1.00      1.00      1.00       560\n",
            "           2       1.00      1.00      1.00        89\n",
            "           3       1.00      1.00      1.00      1762\n",
            "           4       1.00      1.00      1.00       213\n",
            "           5       1.00      0.99      0.99       649\n",
            "           6       1.00      1.00      1.00      2535\n",
            "\n",
            "    accuracy                           1.00      5808\n",
            "   macro avg       1.00      1.00      1.00      5808\n",
            "weighted avg       1.00      1.00      1.00      5808\n",
            "\n",
            "----------------------------------------\n",
            "Train:\n"
          ]
        },
        {
          "output_type": "display_data",
          "data": {
            "text/plain": [
              "<Figure size 432x288 with 2 Axes>"
            ],
            "image/png": "[encoded data removed]"
          },
          "metadata": {
            "needs_background": "light"
          }
        },
        {
          "output_type": "stream",
          "name": "stdout",
          "text": [
            "Test:\n"
          ]
        },
        {
          "output_type": "display_data",
          "data": {
            "text/plain": [
              "<Figure size 432x288 with 2 Axes>"
            ],
            "image/png": "[encoded data removed]"
          },
          "metadata": {
            "needs_background": "light"
          }
        },
        {
          "output_type": "stream",
          "name": "stdout",
          "text": [
            "----------------------------------------\n"
          ]
        }
      ]
    },
    {
      "cell_type": "markdown",
      "source": [
        "Linear SVM model is less overfitted compared to linear regression and KNN as used in this data. This is because the SVM used here is soft margin that is not suceptible to outliers. The high performance of the linear SVM shows that the relaionship between the label and the feature can be represented by linear boundaries. The low variance of the model also means that it generalizes well than the previous models we have used."
      ],
      "metadata": {
        "id": "1R4Zktr8s9vC"
      }
    },
    {
      "cell_type": "code",
      "source": [
        "poly_svc = SVC(kernel='poly', C=1.0, probability=True) \n",
        "\n",
        "y_train_pred, y_test_pred, y_train_proba, y_test_proba = train_n_test(poly_svc)\n",
        "\n",
        "evaluate_result(y_train=y_train, y_train_pred=y_train_pred, y_train_proba=y_train_proba, y_test=y_test, y_test_pred=y_test_pred, y_test_proba=y_test_proba)"
      ],
      "metadata": {
        "colab": {
          "base_uri": "https://localhost:8080/",
          "height": 1000
        },
        "id": "uSm1-v3eM5nf",
        "outputId": "86be8e99-b2a8-413a-f75a-87c04d42ab9d"
      },
      "execution_count": null,
      "outputs": [
        {
          "output_type": "stream",
          "name": "stdout",
          "text": [
            "accuracy_score for Train is: 0.9253081408222009\n",
            "accuracy_score for Test is: 0.9264807162534435\n",
            "----------------------------------------\n",
            "cohen_kappa_score for Train is: 0.8897070109661649\n",
            "cohen_kappa_score for Test is: 0.8903819342813879\n",
            "----------------------------------------\n",
            "Train:\n",
            "              precision    recall  f1-score   support\n",
            "\n",
            "           1       1.00      0.99      0.99      1403\n",
            "           2       1.00      0.90      0.95       183\n",
            "           3       1.00      1.00      1.00      4011\n",
            "           4       1.00      1.00      1.00       530\n",
            "           5       1.00      0.39      0.57      1577\n",
            "           6       0.85      1.00      0.92      5845\n",
            "\n",
            "    accuracy                           0.93     13549\n",
            "   macro avg       0.97      0.88      0.90     13549\n",
            "weighted avg       0.94      0.93      0.91     13549\n",
            "\n",
            "Test:\n",
            "              precision    recall  f1-score   support\n",
            "\n",
            "           1       1.00      0.98      0.99       560\n",
            "           2       1.00      0.96      0.98        89\n",
            "           3       1.00      1.00      1.00      1762\n",
            "           4       1.00      1.00      1.00       213\n",
            "           5       1.00      0.37      0.54       649\n",
            "           6       0.86      1.00      0.92      2535\n",
            "\n",
            "    accuracy                           0.93      5808\n",
            "   macro avg       0.98      0.88      0.91      5808\n",
            "weighted avg       0.94      0.93      0.91      5808\n",
            "\n",
            "----------------------------------------\n",
            "Train:\n"
          ]
        },
        {
          "output_type": "display_data",
          "data": {
            "text/plain": [
              "<Figure size 432x288 with 2 Axes>"
            ],
            "image/png": "[encoded data removed]"
          },
          "metadata": {
            "needs_background": "light"
          }
        },
        {
          "output_type": "stream",
          "name": "stdout",
          "text": [
            "Test:\n"
          ]
        },
        {
          "output_type": "display_data",
          "data": {
            "text/plain": [
              "<Figure size 432x288 with 2 Axes>"
            ],
            "image/png": "[encoded data removed]"
          },
          "metadata": {
            "needs_background": "light"
          }
        },
        {
          "output_type": "stream",
          "name": "stdout",
          "text": [
            "----------------------------------------\n"
          ]
        }
      ]
    },
    {
      "cell_type": "markdown",
      "source": [
        "The low performance of poly SVM shows that the relationship between the labels and the features are better represented by linear margins compared to non-linear (e.g. poly). The misclassifcation of class 5 as class 6 also increased for this model. This means that adding non-linearity to the model would result in misclassying Grass as Wetland.:"
      ],
      "metadata": {
        "id": "9J7WZ1cpurMV"
      }
    },
    {
      "cell_type": "code",
      "source": [
        "sigmoid_svc = SVC(kernel='sigmoid', C=1.0, probability=True) \n",
        "\n",
        "y_train_pred, y_test_pred, y_train_proba, y_test_proba = train_n_test(sigmoid_svc)\n",
        "\n",
        "evaluate_result(y_train=y_train, y_train_pred=y_train_pred, y_train_proba=y_train_proba, y_test=y_test, y_test_pred=y_test_pred, y_test_proba=y_test_proba)"
      ],
      "metadata": {
        "colab": {
          "base_uri": "https://localhost:8080/",
          "height": 1000
        },
        "id": "YHI5zjEsM5br",
        "outputId": "66006b37-e6ef-4a12-9719-66c0f4b402b6"
      },
      "execution_count": null,
      "outputs": [
        {
          "output_type": "stream",
          "name": "stdout",
          "text": [
            "accuracy_score for Train is: 0.8827957782862204\n",
            "accuracy_score for Test is: 0.8899793388429752\n",
            "----------------------------------------\n",
            "cohen_kappa_score for Train is: 0.8320872345499064\n",
            "cohen_kappa_score for Test is: 0.8409086417839436\n",
            "----------------------------------------\n",
            "Train:\n",
            "              precision    recall  f1-score   support\n",
            "\n",
            "           1       0.75      0.59      0.66      1403\n",
            "           2       1.00      0.06      0.11       183\n",
            "           3       1.00      1.00      1.00      4011\n",
            "           4       0.05      0.08      0.06       530\n",
            "           5       0.73      0.79      0.76      1577\n",
            "           6       0.98      1.00      0.99      5845\n",
            "\n",
            "    accuracy                           0.88     13549\n",
            "   macro avg       0.75      0.59      0.60     13549\n",
            "weighted avg       0.90      0.88      0.88     13549\n",
            "\n",
            "Test:\n",
            "              precision    recall  f1-score   support\n",
            "\n",
            "           1       0.72      0.58      0.65       560\n",
            "           2       1.00      0.06      0.11        89\n",
            "           3       1.00      1.00      1.00      1762\n",
            "           4       0.07      0.10      0.08       213\n",
            "           5       0.76      0.81      0.78       649\n",
            "           6       0.98      1.00      0.99      2535\n",
            "\n",
            "    accuracy                           0.89      5808\n",
            "   macro avg       0.75      0.59      0.60      5808\n",
            "weighted avg       0.90      0.89      0.89      5808\n",
            "\n",
            "----------------------------------------\n",
            "Train:\n"
          ]
        },
        {
          "output_type": "display_data",
          "data": {
            "text/plain": [
              "<Figure size 432x288 with 2 Axes>"
            ],
            "image/png": "[encoded data removed]"
          },
          "metadata": {
            "needs_background": "light"
          }
        },
        {
          "output_type": "stream",
          "name": "stdout",
          "text": [
            "Test:\n"
          ]
        },
        {
          "output_type": "display_data",
          "data": {
            "text/plain": [
              "<Figure size 432x288 with 2 Axes>"
            ],
            "image/png": "[encoded data removed]"
          },
          "metadata": {
            "needs_background": "light"
          }
        },
        {
          "output_type": "stream",
          "name": "stdout",
          "text": [
            "----------------------------------------\n"
          ]
        }
      ]
    },
    {
      "cell_type": "markdown",
      "source": [
        "As expected, there is a low performance of sigmoid SVM in the data.This shows that the relationship between the labels and the features are better represented by linear margins compared to non-linear (e.g. sigmoid). The misclassifcation of class 1, 4, and 5 also increased for this model. This means that adding non-linearity to the model would result in more misclassification.\n"
      ],
      "metadata": {
        "id": "6YRI2CFvvWqz"
      }
    },
    {
      "cell_type": "code",
      "source": [
        "rbf_svc = SVC(kernel='rbf', C=10.0, probability=True) \n",
        "\n",
        "y_train_pred, y_test_pred, y_train_proba, y_test_proba = train_n_test(rbf_svc)\n",
        "\n",
        "evaluate_result(y_train=y_train, y_train_pred=y_train_pred, y_train_proba=y_train_proba, y_test=y_test, y_test_pred=y_test_pred, y_test_proba=y_test_proba)"
      ],
      "metadata": {
        "colab": {
          "base_uri": "https://localhost:8080/",
          "height": 1000
        },
        "id": "4EyPw8DNM5BR",
        "outputId": "3e155b93-57c0-4e57-8164-21a5d1dc4798"
      },
      "execution_count": null,
      "outputs": [
        {
          "output_type": "stream",
          "name": "stdout",
          "text": [
            "accuracy_score for Train is: 0.9985976824857923\n",
            "accuracy_score for Test is: 0.9981060606060606\n",
            "----------------------------------------\n",
            "cohen_kappa_score for Train is: 0.9979962106632843\n",
            "cohen_kappa_score for Test is: 0.9972689450479495\n",
            "----------------------------------------\n",
            "Train:\n",
            "              precision    recall  f1-score   support\n",
            "\n",
            "           1       1.00      1.00      1.00      1403\n",
            "           2       1.00      1.00      1.00       183\n",
            "           3       1.00      1.00      1.00      4011\n",
            "           4       1.00      1.00      1.00       530\n",
            "           5       1.00      0.99      0.99      1577\n",
            "           6       1.00      1.00      1.00      5845\n",
            "\n",
            "    accuracy                           1.00     13549\n",
            "   macro avg       1.00      1.00      1.00     13549\n",
            "weighted avg       1.00      1.00      1.00     13549\n",
            "\n",
            "Test:\n",
            "              precision    recall  f1-score   support\n",
            "\n",
            "           1       1.00      1.00      1.00       560\n",
            "           2       1.00      1.00      1.00        89\n",
            "           3       1.00      1.00      1.00      1762\n",
            "           4       1.00      1.00      1.00       213\n",
            "           5       1.00      0.98      0.99       649\n",
            "           6       1.00      1.00      1.00      2535\n",
            "\n",
            "    accuracy                           1.00      5808\n",
            "   macro avg       1.00      1.00      1.00      5808\n",
            "weighted avg       1.00      1.00      1.00      5808\n",
            "\n",
            "----------------------------------------\n",
            "Train:\n"
          ]
        },
        {
          "output_type": "display_data",
          "data": {
            "text/plain": [
              "<Figure size 432x288 with 2 Axes>"
            ],
            "image/png": "[encoded data removed]"
          },
          "metadata": {
            "needs_background": "light"
          }
        },
        {
          "output_type": "stream",
          "name": "stdout",
          "text": [
            "Test:\n"
          ]
        },
        {
          "output_type": "display_data",
          "data": {
            "text/plain": [
              "<Figure size 432x288 with 2 Axes>"
            ],
            "image/png": "[encoded data removed]"
          },
          "metadata": {
            "needs_background": "light"
          }
        },
        {
          "output_type": "stream",
          "name": "stdout",
          "text": [
            "----------------------------------------\n"
          ]
        }
      ]
    },
    {
      "cell_type": "markdown",
      "source": [
        "Using RBF kernel resulted in a better performance than poly and sigmoid kernels. This shows that rbf kernel which projects the data to an infinite dimensional space was able to better separate the data into its classes."
      ],
      "metadata": {
        "id": "561Q0T_pv07k"
      }
    },
    {
      "cell_type": "markdown",
      "source": [
        "Hyperparameter Tuning"
      ],
      "metadata": {
        "id": "HAVml_eX7Y3s"
      }
    },
    {
      "cell_type": "code",
      "source": [
        "stratified_cv = StratifiedKFold(5, random_state=0, shuffle=True)"
      ],
      "metadata": {
        "id": "5-_UQ924816V"
      },
      "execution_count": null,
      "outputs": []
    },
    {
      "cell_type": "code",
      "source": [
        "kappa_scorer = make_scorer(cohen_kappa_score)"
      ],
      "metadata": {
        "id": "MRdvvtn-9Z2R"
      },
      "execution_count": null,
      "outputs": []
    },
    {
      "cell_type": "code",
      "source": [
        "knn_params = {'n_neighbors': np.arange(2, 16)}\n",
        "\n",
        "knn = KNeighborsClassifier() \n",
        "\n",
        "knn_grid = GridSearchCV(estimator=knn, param_grid=knn_params, scoring=kappa_scorer, cv=stratified_cv,n_jobs=-1, return_train_score=True, refit=True,\n",
        "                        verbose=True, error_score='raise')\n",
        "\n",
        "knn_grid.fit(X, y)"
      ],
      "metadata": {
        "id": "4E8Sqi4y6dNC",
        "colab": {
          "base_uri": "https://localhost:8080/"
        },
        "outputId": "f8b46053-b40a-4914-8e95-0b65df7cd1b0"
      },
      "execution_count": null,
      "outputs": [
        {
          "output_type": "stream",
          "name": "stdout",
          "text": [
            "Fitting 5 folds for each of 14 candidates, totalling 70 fits\n"
          ]
        },
        {
          "output_type": "execute_result",
          "data": {
            "text/plain": [
              "GridSearchCV(cv=StratifiedKFold(n_splits=5, random_state=0, shuffle=True),\n",
              "             error_score='raise', estimator=KNeighborsClassifier(), n_jobs=-1,\n",
              "             param_grid={'n_neighbors': array([ 2,  3,  4,  5,  6,  7,  8,  9, 10, 11, 12, 13, 14, 15])},\n",
              "             return_train_score=True, scoring=make_scorer(cohen_kappa_score),\n",
              "             verbose=True)"
            ]
          },
          "metadata": {},
          "execution_count": 71
        }
      ]
    },
    {
      "cell_type": "code",
      "source": [
        "knn_cv_results = pd.DataFrame(knn_grid.cv_results_)[['params', 'mean_train_score', 'mean_test_score']]\n",
        "knn_cv_results['k'] = knn_cv_results['params'].apply(lambda x: int(x['n_neighbors']))\n",
        "knn_cv_results.set_index('params')\n",
        "knn_cv_results.sort_values(by='mean_test_score', ascending=False)"
      ],
      "metadata": {
        "colab": {
          "base_uri": "https://localhost:8080/",
          "height": 488
        },
        "id": "Z_GpnMhf--bc",
        "outputId": "ea889485-1feb-4f77-9494-d8b03b4eef9b"
      },
      "execution_count": null,
      "outputs": [
        {
          "output_type": "execute_result",
          "data": {
            "text/plain": [
              "                 params  mean_train_score  mean_test_score   k\n",
              "0    {'n_neighbors': 2}          0.999926         0.998520   2\n",
              "1    {'n_neighbors': 3}          0.998557         0.997705   3\n",
              "2    {'n_neighbors': 4}          0.998650         0.997705   4\n",
              "4    {'n_neighbors': 6}          0.997965         0.997187   6\n",
              "3    {'n_neighbors': 5}          0.997909         0.997113   5\n",
              "6    {'n_neighbors': 8}          0.997446         0.996891   8\n",
              "8   {'n_neighbors': 10}          0.997132         0.996594  10\n",
              "5    {'n_neighbors': 7}          0.997354         0.996520   7\n",
              "7    {'n_neighbors': 9}          0.996983         0.996446   9\n",
              "10  {'n_neighbors': 12}          0.996817         0.996223  12\n",
              "9   {'n_neighbors': 11}          0.996724         0.996223  11\n",
              "12  {'n_neighbors': 14}          0.996539         0.995779  14\n",
              "11  {'n_neighbors': 13}          0.996465         0.995705  13\n",
              "13  {'n_neighbors': 15}          0.996261         0.995630  15"
            ],
            "text/html": [
              "\n",
              "  <div id=\"df-85d9b7ee-cc57-480e-971d-72ce1f65fd54\">\n",
              "    <div class=\"colab-df-container\">\n",
              "      <div>\n",
              "<style scoped>\n",
              "    .dataframe tbody tr th:only-of-type {\n",
              "        vertical-align: middle;\n",
              "    }\n",
              "\n",
              "    .dataframe tbody tr th {\n",
              "        vertical-align: top;\n",
              "    }\n",
              "\n",
              "    .dataframe thead th {\n",
              "        text-align: right;\n",
              "    }\n",
              "</style>\n",
              "<table border=\"1\" class=\"dataframe\">\n",
              "  <thead>\n",
              "    <tr style=\"text-align: right;\">\n",
              "      <th></th>\n",
              "      <th>params</th>\n",
              "      <th>mean_train_score</th>\n",
              "      <th>mean_test_score</th>\n",
              "      <th>k</th>\n",
              "    </tr>\n",
              "  </thead>\n",
              "  <tbody>\n",
              "    <tr>\n",
              "      <th>0</th>\n",
              "      <td>{'n_neighbors': 2}</td>\n",
              "      <td>0.999926</td>\n",
              "      <td>0.998520</td>\n",
              "      <td>2</td>\n",
              "    </tr>\n",
              "    <tr>\n",
              "      <th>1</th>\n",
              "      <td>{'n_neighbors': 3}</td>\n",
              "      <td>0.998557</td>\n",
              "      <td>0.997705</td>\n",
              "      <td>3</td>\n",
              "    </tr>\n",
              "    <tr>\n",
              "      <th>2</th>\n",
              "      <td>{'n_neighbors': 4}</td>\n",
              "      <td>0.998650</td>\n",
              "      <td>0.997705</td>\n",
              "      <td>4</td>\n",
              "    </tr>\n",
              "    <tr>\n",
              "      <th>4</th>\n",
              "      <td>{'n_neighbors': 6}</td>\n",
              "      <td>0.997965</td>\n",
              "      <td>0.997187</td>\n",
              "      <td>6</td>\n",
              "    </tr>\n",
              "    <tr>\n",
              "      <th>3</th>\n",
              "      <td>{'n_neighbors': 5}</td>\n",
              "      <td>0.997909</td>\n",
              "      <td>0.997113</td>\n",
              "      <td>5</td>\n",
              "    </tr>\n",
              "    <tr>\n",
              "      <th>6</th>\n",
              "      <td>{'n_neighbors': 8}</td>\n",
              "      <td>0.997446</td>\n",
              "      <td>0.996891</td>\n",
              "      <td>8</td>\n",
              "    </tr>\n",
              "    <tr>\n",
              "      <th>8</th>\n",
              "      <td>{'n_neighbors': 10}</td>\n",
              "      <td>0.997132</td>\n",
              "      <td>0.996594</td>\n",
              "      <td>10</td>\n",
              "    </tr>\n",
              "    <tr>\n",
              "      <th>5</th>\n",
              "      <td>{'n_neighbors': 7}</td>\n",
              "      <td>0.997354</td>\n",
              "      <td>0.996520</td>\n",
              "      <td>7</td>\n",
              "    </tr>\n",
              "    <tr>\n",
              "      <th>7</th>\n",
              "      <td>{'n_neighbors': 9}</td>\n",
              "      <td>0.996983</td>\n",
              "      <td>0.996446</td>\n",
              "      <td>9</td>\n",
              "    </tr>\n",
              "    <tr>\n",
              "      <th>10</th>\n",
              "      <td>{'n_neighbors': 12}</td>\n",
              "      <td>0.996817</td>\n",
              "      <td>0.996223</td>\n",
              "      <td>12</td>\n",
              "    </tr>\n",
              "    <tr>\n",
              "      <th>9</th>\n",
              "      <td>{'n_neighbors': 11}</td>\n",
              "      <td>0.996724</td>\n",
              "      <td>0.996223</td>\n",
              "      <td>11</td>\n",
              "    </tr>\n",
              "    <tr>\n",
              "      <th>12</th>\n",
              "      <td>{'n_neighbors': 14}</td>\n",
              "      <td>0.996539</td>\n",
              "      <td>0.995779</td>\n",
              "      <td>14</td>\n",
              "    </tr>\n",
              "    <tr>\n",
              "      <th>11</th>\n",
              "      <td>{'n_neighbors': 13}</td>\n",
              "      <td>0.996465</td>\n",
              "      <td>0.995705</td>\n",
              "      <td>13</td>\n",
              "    </tr>\n",
              "    <tr>\n",
              "      <th>13</th>\n",
              "      <td>{'n_neighbors': 15}</td>\n",
              "      <td>0.996261</td>\n",
              "      <td>0.995630</td>\n",
              "      <td>15</td>\n",
              "    </tr>\n",
              "  </tbody>\n",
              "</table>\n",
              "</div>\n",
              "      <button class=\"colab-df-convert\" onclick=\"convertToInteractive('df-85d9b7ee-cc57-480e-971d-72ce1f65fd54')\"\n",
              "              title=\"Convert this dataframe to an interactive table.\"\n",
              "              style=\"display:none;\">\n",
              "        \n",
              "  <svg xmlns=\"http://www.w3.org/2000/svg\" height=\"24px\"viewBox=\"0 0 24 24\"\n",
              "       width=\"24px\">\n",
              "    <path d=\"M0 0h24v24H0V0z\" fill=\"none\"/>\n",
              "    <path d=\"M18.56 5.44l.94 2.06.94-2.06 2.06-.94-2.06-.94-.94-2.06-.94 2.06-2.06.94zm-11 1L8.5 8.5l.94-2.06 2.06-.94-2.06-.94L8.5 2.5l-.94 2.06-2.06.94zm10 10l.94 2.06.94-2.06 2.06-.94-2.06-.94-.94-2.06-.94 2.06-2.06.94z\"/><path d=\"M17.41 7.96l-1.37-1.37c-.4-.4-.92-.59-1.43-.59-.52 0-1.04.2-1.43.59L10.3 9.45l-7.72 7.72c-.78.78-.78 2.05 0 2.83L4 21.41c.39.39.9.59 1.41.59.51 0 1.02-.2 1.41-.59l7.78-7.78 2.81-2.81c.8-.78.8-2.07 0-2.86zM5.41 20L4 18.59l7.72-7.72 1.47 1.35L5.41 20z\"/>\n",
              "  </svg>\n",
              "      </button>\n",
              "      \n",
              "  <style>\n",
              "    .colab-df-container {\n",
              "      display:flex;\n",
              "      flex-wrap:wrap;\n",
              "      gap: 12px;\n",
              "    }\n",
              "\n",
              "    .colab-df-convert {\n",
              "      background-color: #E8F0FE;\n",
              "      border: none;\n",
              "      border-radius: 50%;\n",
              "      cursor: pointer;\n",
              "      display: none;\n",
              "      fill: #1967D2;\n",
              "      height: 32px;\n",
              "      padding: 0 0 0 0;\n",
              "      width: 32px;\n",
              "    }\n",
              "\n",
              "    .colab-df-convert:hover {\n",
              "      background-color: #E2EBFA;\n",
              "      box-shadow: 0px 1px 2px rgba(60, 64, 67, 0.3), 0px 1px 3px 1px rgba(60, 64, 67, 0.15);\n",
              "      fill: #174EA6;\n",
              "    }\n",
              "\n",
              "    [theme=dark] .colab-df-convert {\n",
              "      background-color: #3B4455;\n",
              "      fill: #D2E3FC;\n",
              "    }\n",
              "\n",
              "    [theme=dark] .colab-df-convert:hover {\n",
              "      background-color: #434B5C;\n",
              "      box-shadow: 0px 1px 3px 1px rgba(0, 0, 0, 0.15);\n",
              "      filter: drop-shadow(0px 1px 2px rgba(0, 0, 0, 0.3));\n",
              "      fill: #FFFFFF;\n",
              "    }\n",
              "  </style>\n",
              "\n",
              "      <script>\n",
              "        const buttonEl =\n",
              "          document.querySelector('#df-85d9b7ee-cc57-480e-971d-72ce1f65fd54 button.colab-df-convert');\n",
              "        buttonEl.style.display =\n",
              "          google.colab.kernel.accessAllowed ? 'block' : 'none';\n",
              "\n",
              "        async function convertToInteractive(key) {\n",
              "          const element = document.querySelector('#df-85d9b7ee-cc57-480e-971d-72ce1f65fd54');\n",
              "          const dataTable =\n",
              "            await google.colab.kernel.invokeFunction('convertToInteractive',\n",
              "                                                     [key], {});\n",
              "          if (!dataTable) return;\n",
              "\n",
              "          const docLinkHtml = 'Like what you see? Visit the ' +\n",
              "            '<a target=\"_blank\" href=https://colab.research.google.com/notebooks/data_table.ipynb>data table notebook</a>'\n",
              "            + ' to learn more about interactive tables.';\n",
              "          element.innerHTML = '';\n",
              "          dataTable['output_type'] = 'display_data';\n",
              "          await google.colab.output.renderOutput(dataTable, element);\n",
              "          const docLink = document.createElement('div');\n",
              "          docLink.innerHTML = docLinkHtml;\n",
              "          element.appendChild(docLink);\n",
              "        }\n",
              "      </script>\n",
              "    </div>\n",
              "  </div>\n",
              "  "
            ]
          },
          "metadata": {},
          "execution_count": 72
        }
      ]
    },
    {
      "cell_type": "code",
      "source": [
        "plt.plot(knn_cv_results['k'], knn_cv_results['mean_train_score'], label='Train')\n",
        "plt.plot(knn_cv_results['k'], knn_cv_results['mean_test_score'], label='Test')\n",
        "plt.legend()\n",
        "plt.xlabel('N_neighbors')\n",
        "plt.ylabel('Cohen Kappa Score')\n",
        "plt.title('Learning Curve for KNN')\n",
        "plt.show()"
      ],
      "metadata": {
        "colab": {
          "base_uri": "https://localhost:8080/",
          "height": 296
        },
        "id": "QQpmk3ifxoRr",
        "outputId": "5c127cc6-95fb-4927-e61b-d453f19c1f88"
      },
      "execution_count": null,
      "outputs": [
        {
          "output_type": "display_data",
          "data": {
            "text/plain": [
              "<Figure size 432x288 with 1 Axes>"
            ],
            "image/png": "[encoded data removed]"
          },
          "metadata": {
            "needs_background": "light"
          }
        }
      ]
    },
    {
      "cell_type": "code",
      "source": [
        "dtc_params = {'max_depth': np.arange(3, 10, 3), 'min_samples_leaf': np.arange(3, 10, 3)}\n",
        "\n",
        "dtc = DecisionTreeClassifier(random_state=42)\n",
        "\n",
        "dtc_grid = GridSearchCV(estimator=dtc, param_grid=dtc_params, scoring=kappa_scorer, cv=stratified_cv,n_jobs=-1, return_train_score=True, refit=True,\n",
        "                        verbose=True, error_score='raise')\n",
        "\n",
        "dtc_grid.fit(X, y)"
      ],
      "metadata": {
        "colab": {
          "base_uri": "https://localhost:8080/"
        },
        "id": "8DrSBrLy-iwC",
        "outputId": "958c1c84-148d-4b8b-f26b-f1aee4825467"
      },
      "execution_count": null,
      "outputs": [
        {
          "output_type": "stream",
          "name": "stdout",
          "text": [
            "Fitting 5 folds for each of 9 candidates, totalling 45 fits\n"
          ]
        },
        {
          "output_type": "execute_result",
          "data": {
            "text/plain": [
              "GridSearchCV(cv=StratifiedKFold(n_splits=5, random_state=0, shuffle=True),\n",
              "             error_score='raise',\n",
              "             estimator=DecisionTreeClassifier(random_state=42), n_jobs=-1,\n",
              "             param_grid={'max_depth': array([3, 6, 9]),\n",
              "                         'min_samples_leaf': array([3, 6, 9])},\n",
              "             return_train_score=True, scoring=make_scorer(cohen_kappa_score),\n",
              "             verbose=True)"
            ]
          },
          "metadata": {},
          "execution_count": 44
        }
      ]
    },
    {
      "cell_type": "code",
      "source": [
        "dtc_cv_results = pd.DataFrame(dtc_grid.cv_results_).set_index('params')[['mean_train_score', 'mean_test_score']]\n",
        "dtc_cv_results.sort_values(by='mean_test_score', ascending=False)"
      ],
      "metadata": {
        "colab": {
          "base_uri": "https://localhost:8080/",
          "height": 363
        },
        "id": "bkWaSZpACFUY",
        "outputId": "d06e73e3-02cc-4438-e9a7-6fca1581e2b2"
      },
      "execution_count": null,
      "outputs": [
        {
          "output_type": "execute_result",
          "data": {
            "text/plain": [
              "                                         mean_train_score  mean_test_score\n",
              "params                                                                    \n",
              "{'max_depth': 9, 'min_samples_leaf': 3}          0.998539         0.996596\n",
              "{'max_depth': 6, 'min_samples_leaf': 3}          0.997835         0.996373\n",
              "{'max_depth': 9, 'min_samples_leaf': 6}          0.997688         0.995856\n",
              "{'max_depth': 6, 'min_samples_leaf': 6}          0.997114         0.995633\n",
              "{'max_depth': 6, 'min_samples_leaf': 9}          0.996799         0.995485\n",
              "{'max_depth': 9, 'min_samples_leaf': 9}          0.997151         0.995411\n",
              "{'max_depth': 3, 'min_samples_leaf': 9}          0.920309         0.919826\n",
              "{'max_depth': 3, 'min_samples_leaf': 3}          0.920345         0.919822\n",
              "{'max_depth': 3, 'min_samples_leaf': 6}          0.920345         0.919822"
            ],
            "text/html": [
              "\n",
              "  <div id=\"df-0b8e7570-8e08-4ac9-84f3-c4eddca5e516\">\n",
              "    <div class=\"colab-df-container\">\n",
              "      <div>\n",
              "<style scoped>\n",
              "    .dataframe tbody tr th:only-of-type {\n",
              "        vertical-align: middle;\n",
              "    }\n",
              "\n",
              "    .dataframe tbody tr th {\n",
              "        vertical-align: top;\n",
              "    }\n",
              "\n",
              "    .dataframe thead th {\n",
              "        text-align: right;\n",
              "    }\n",
              "</style>\n",
              "<table border=\"1\" class=\"dataframe\">\n",
              "  <thead>\n",
              "    <tr style=\"text-align: right;\">\n",
              "      <th></th>\n",
              "      <th>mean_train_score</th>\n",
              "      <th>mean_test_score</th>\n",
              "    </tr>\n",
              "    <tr>\n",
              "      <th>params</th>\n",
              "      <th></th>\n",
              "      <th></th>\n",
              "    </tr>\n",
              "  </thead>\n",
              "  <tbody>\n",
              "    <tr>\n",
              "      <th>{'max_depth': 9, 'min_samples_leaf': 3}</th>\n",
              "      <td>0.998539</td>\n",
              "      <td>0.996596</td>\n",
              "    </tr>\n",
              "    <tr>\n",
              "      <th>{'max_depth': 6, 'min_samples_leaf': 3}</th>\n",
              "      <td>0.997835</td>\n",
              "      <td>0.996373</td>\n",
              "    </tr>\n",
              "    <tr>\n",
              "      <th>{'max_depth': 9, 'min_samples_leaf': 6}</th>\n",
              "      <td>0.997688</td>\n",
              "      <td>0.995856</td>\n",
              "    </tr>\n",
              "    <tr>\n",
              "      <th>{'max_depth': 6, 'min_samples_leaf': 6}</th>\n",
              "      <td>0.997114</td>\n",
              "      <td>0.995633</td>\n",
              "    </tr>\n",
              "    <tr>\n",
              "      <th>{'max_depth': 6, 'min_samples_leaf': 9}</th>\n",
              "      <td>0.996799</td>\n",
              "      <td>0.995485</td>\n",
              "    </tr>\n",
              "    <tr>\n",
              "      <th>{'max_depth': 9, 'min_samples_leaf': 9}</th>\n",
              "      <td>0.997151</td>\n",
              "      <td>0.995411</td>\n",
              "    </tr>\n",
              "    <tr>\n",
              "      <th>{'max_depth': 3, 'min_samples_leaf': 9}</th>\n",
              "      <td>0.920309</td>\n",
              "      <td>0.919826</td>\n",
              "    </tr>\n",
              "    <tr>\n",
              "      <th>{'max_depth': 3, 'min_samples_leaf': 3}</th>\n",
              "      <td>0.920345</td>\n",
              "      <td>0.919822</td>\n",
              "    </tr>\n",
              "    <tr>\n",
              "      <th>{'max_depth': 3, 'min_samples_leaf': 6}</th>\n",
              "      <td>0.920345</td>\n",
              "      <td>0.919822</td>\n",
              "    </tr>\n",
              "  </tbody>\n",
              "</table>\n",
              "</div>\n",
              "      <button class=\"colab-df-convert\" onclick=\"convertToInteractive('df-0b8e7570-8e08-4ac9-84f3-c4eddca5e516')\"\n",
              "              title=\"Convert this dataframe to an interactive table.\"\n",
              "              style=\"display:none;\">\n",
              "        \n",
              "  <svg xmlns=\"http://www.w3.org/2000/svg\" height=\"24px\"viewBox=\"0 0 24 24\"\n",
              "       width=\"24px\">\n",
              "    <path d=\"M0 0h24v24H0V0z\" fill=\"none\"/>\n",
              "    <path d=\"M18.56 5.44l.94 2.06.94-2.06 2.06-.94-2.06-.94-.94-2.06-.94 2.06-2.06.94zm-11 1L8.5 8.5l.94-2.06 2.06-.94-2.06-.94L8.5 2.5l-.94 2.06-2.06.94zm10 10l.94 2.06.94-2.06 2.06-.94-2.06-.94-.94-2.06-.94 2.06-2.06.94z\"/><path d=\"M17.41 7.96l-1.37-1.37c-.4-.4-.92-.59-1.43-.59-.52 0-1.04.2-1.43.59L10.3 9.45l-7.72 7.72c-.78.78-.78 2.05 0 2.83L4 21.41c.39.39.9.59 1.41.59.51 0 1.02-.2 1.41-.59l7.78-7.78 2.81-2.81c.8-.78.8-2.07 0-2.86zM5.41 20L4 18.59l7.72-7.72 1.47 1.35L5.41 20z\"/>\n",
              "  </svg>\n",
              "      </button>\n",
              "      \n",
              "  <style>\n",
              "    .colab-df-container {\n",
              "      display:flex;\n",
              "      flex-wrap:wrap;\n",
              "      gap: 12px;\n",
              "    }\n",
              "\n",
              "    .colab-df-convert {\n",
              "      background-color: #E8F0FE;\n",
              "      border: none;\n",
              "      border-radius: 50%;\n",
              "      cursor: pointer;\n",
              "      display: none;\n",
              "      fill: #1967D2;\n",
              "      height: 32px;\n",
              "      padding: 0 0 0 0;\n",
              "      width: 32px;\n",
              "    }\n",
              "\n",
              "    .colab-df-convert:hover {\n",
              "      background-color: #E2EBFA;\n",
              "      box-shadow: 0px 1px 2px rgba(60, 64, 67, 0.3), 0px 1px 3px 1px rgba(60, 64, 67, 0.15);\n",
              "      fill: #174EA6;\n",
              "    }\n",
              "\n",
              "    [theme=dark] .colab-df-convert {\n",
              "      background-color: #3B4455;\n",
              "      fill: #D2E3FC;\n",
              "    }\n",
              "\n",
              "    [theme=dark] .colab-df-convert:hover {\n",
              "      background-color: #434B5C;\n",
              "      box-shadow: 0px 1px 3px 1px rgba(0, 0, 0, 0.15);\n",
              "      filter: drop-shadow(0px 1px 2px rgba(0, 0, 0, 0.3));\n",
              "      fill: #FFFFFF;\n",
              "    }\n",
              "  </style>\n",
              "\n",
              "      <script>\n",
              "        const buttonEl =\n",
              "          document.querySelector('#df-0b8e7570-8e08-4ac9-84f3-c4eddca5e516 button.colab-df-convert');\n",
              "        buttonEl.style.display =\n",
              "          google.colab.kernel.accessAllowed ? 'block' : 'none';\n",
              "\n",
              "        async function convertToInteractive(key) {\n",
              "          const element = document.querySelector('#df-0b8e7570-8e08-4ac9-84f3-c4eddca5e516');\n",
              "          const dataTable =\n",
              "            await google.colab.kernel.invokeFunction('convertToInteractive',\n",
              "                                                     [key], {});\n",
              "          if (!dataTable) return;\n",
              "\n",
              "          const docLinkHtml = 'Like what you see? Visit the ' +\n",
              "            '<a target=\"_blank\" href=https://colab.research.google.com/notebooks/data_table.ipynb>data table notebook</a>'\n",
              "            + ' to learn more about interactive tables.';\n",
              "          element.innerHTML = '';\n",
              "          dataTable['output_type'] = 'display_data';\n",
              "          await google.colab.output.renderOutput(dataTable, element);\n",
              "          const docLink = document.createElement('div');\n",
              "          docLink.innerHTML = docLinkHtml;\n",
              "          element.appendChild(docLink);\n",
              "        }\n",
              "      </script>\n",
              "    </div>\n",
              "  </div>\n",
              "  "
            ]
          },
          "metadata": {},
          "execution_count": 45
        }
      ]
    },
    {
      "cell_type": "markdown",
      "source": [
        "Best Models"
      ],
      "metadata": {
        "id": "p6nd6pwyCRwV"
      }
    },
    {
      "cell_type": "code",
      "source": [
        "def plot_true_and_predicted_img(model_dict, X_test, img_size, n_features=63, bands_index=[0, 1, 2], **kwargs):\n",
        "    if 'figsize' in kwargs:\n",
        "        fig = plt.figure(kwargs['figsize'])\n",
        "    else:\n",
        "        fig = plt.figure()\n",
        "\n",
        "    test_img = X_test.reshape(tuple(list(img_size[:2])+[n_features]))[:, :, bands_index]\n",
        "\n",
        "    for k, i in zip(model_dict.keys(), range(1, len(model_dict)+2, 2)):\n",
        "        pred = model_dict[k].predict(X_test)\n",
        "        pred_img = pred.reshape(img_size[:2])\n",
        "\n",
        "        ax = fig.add_subplot(len(model_dict), 2, i)\n",
        "        io.imshow(test_img)\n",
        "        plt.title('Original')\n",
        "\n",
        "        ax = fig.add_subplot(len(model_dict), 2, i+1)\n",
        "        io.imshow(pred_img) \n",
        "        plt.title(k+'_Prediction')\n",
        "\n",
        "    plt.show()"
      ],
      "metadata": {
        "id": "vBvMq2lfFzXk"
      },
      "execution_count": null,
      "outputs": []
    },
    {
      "cell_type": "code",
      "source": [
        "model_dict = {'KNN': knn_grid, 'dtc_grid': dtc_grid}"
      ],
      "metadata": {
        "id": "vhrNGMigMH_J"
      },
      "execution_count": null,
      "outputs": []
    },
    {
      "cell_type": "code",
      "source": [
        "import warnings\n",
        "warnings.filterwarnings('ignore')\n",
        "\n",
        "plot_true_and_predicted_img(model_dict, img_as_array, (544, 544))"
      ],
      "metadata": {
        "colab": {
          "base_uri": "https://localhost:8080/",
          "height": 332
        },
        "id": "CtxFW9seL5Vc",
        "outputId": "aca52078-ff86-4b75-a4bf-15e01789c357"
      },
      "execution_count": null,
      "outputs": [
        {
          "output_type": "stream",
          "name": "stderr",
          "text": [
            "WARNING:matplotlib.image:Clipping input data to the valid range for imshow with RGB data ([0..1] for floats or [0..255] for integers).\n",
            "WARNING:matplotlib.image:Clipping input data to the valid range for imshow with RGB data ([0..1] for floats or [0..255] for integers).\n"
          ]
        },
        {
          "output_type": "display_data",
          "data": {
            "text/plain": [
              "<Figure size 432x288 with 6 Axes>"
            ],
            "image/png": "[encoded data removed]"
          },
          "metadata": {
            "needs_background": "light"
          }
        }
      ]
    },
    {
      "cell_type": "markdown",
      "source": [
        "The above is the plot of the original image and the KNN and Decision Tree classification results. Certain features of the image where highlighted more using decision trees more than KNN this can be as a result of overfitting by the decision tree."
      ],
      "metadata": {
        "id": "soID8aHfUfca"
      }
    },
    {
      "cell_type": "markdown",
      "source": [
        "Conclusion"
      ],
      "metadata": {
        "id": "kvDnHVMqu6nL"
      }
    },
    {
      "cell_type": "markdown",
      "source": [
        "In conclusion, most of the classifiers performed good on this data, this could be because the training data combination of the different bands per class are very distinct and linear. The models also had high recall, precision and f1-score as well as high cohen kappa train and test scores which is indicative of a clear and definite decision boundary existing that distinguishes data belonging to various classes. A few consistent misclassifications where observed especially in classes 1, 5 and 6 across the models,this could be because these classes share similar pixel values thereby causing non-linearity or multicollinearity. Also it could be because class 6 and 1 are some of the two biggest classes in the data and the classifier could get a lot of its predictions right just by guessing one of those two classes over and over. In minimizing this missclassification it was observed that the random forest classifier performed best, this is most likely because of the decorrelation property of random forest. "
      ],
      "metadata": {
        "id": "PCUHX0fiu9JS"
      }
    }
  ]
}